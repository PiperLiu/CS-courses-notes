{
 "cells": [
  {
   "cell_type": "code",
   "execution_count": 19,
   "metadata": {
    "ExecuteTime": {
     "end_time": "2021-11-15T14:17:55.433269Z",
     "start_time": "2021-11-15T14:17:55.413269Z"
    }
   },
   "outputs": [],
   "source": [
    "import os, time, datetime, sys\n",
    "import numpy as np\n",
    "import pandas as pd\n",
    "from collections import Counter\n",
    "from functools import reduce\n",
    "from dateutil.relativedelta import relativedelta\n",
    "from sklearn.metrics import roc_curve, auc, f1_score, mean_squared_error\n",
    "from sklearn.model_selection import train_test_split, KFold\n",
    "from sklearn.linear_model import LogisticRegression, LinearRegression\n",
    "from sklearn.ensemble import RandomForestClassifier\n",
    "from sklearn.preprocessing import MultiLabelBinarizer, OneHotEncoder\n",
    "import matplotlib.pyplot as plt\n",
    "import matplotlib\n",
    "import random\n",
    "\n",
    "# Matplotlib中设置字体-黑体，解决Matplotlib中文乱码问题\n",
    "plt.rcParams['font.sans-serif'] = ['SimHei']\n",
    "# 解决Matplotlib坐标轴负号'-'显示为方块的问题\n",
    "plt.rcParams['axes.unicode_minus'] = False\n",
    "\n",
    "%matplotlib inline"
   ]
  },
  {
   "cell_type": "code",
   "execution_count": 20,
   "metadata": {
    "ExecuteTime": {
     "end_time": "2021-11-15T14:18:04.773351Z",
     "start_time": "2021-11-15T14:17:55.893275Z"
    }
   },
   "outputs": [],
   "source": [
    "# 读取数据\n",
    "userinfo_train = pd.read_csv('./20211115_chap4/userinfo.csv')\n",
    "bank_train = pd.read_csv('./20211115_chap4/bank.csv')\n",
    "bill_train = pd.read_csv('./20211115_chap4/bill.csv')\n",
    "overdue_train = pd.read_csv('./20211115_chap4/overdue.csv')\n",
    "\n",
    "df_list = [userinfo_train, bank_train, bill_train, overdue_train]"
   ]
  },
  {
   "cell_type": "code",
   "execution_count": 21,
   "metadata": {
    "ExecuteTime": {
     "end_time": "2021-11-15T14:18:05.233368Z",
     "start_time": "2021-11-15T14:18:05.222367Z"
    }
   },
   "outputs": [
    {
     "name": "stdout",
     "output_type": "stream",
     "text": [
      "(10000, 6)\n",
      "(1068424, 12)\n",
      "(429441, 22)\n",
      "(10000, 3)\n"
     ]
    }
   ],
   "source": [
    "for _df in df_list:\n",
    "    print(_df.shape)"
   ]
  },
  {
   "cell_type": "code",
   "execution_count": 22,
   "metadata": {
    "ExecuteTime": {
     "end_time": "2021-11-15T14:18:05.677360Z",
     "start_time": "2021-11-15T14:18:05.662362Z"
    }
   },
   "outputs": [
    {
     "data": {
      "text/html": [
       "<div>\n",
       "<style scoped>\n",
       "    .dataframe tbody tr th:only-of-type {\n",
       "        vertical-align: middle;\n",
       "    }\n",
       "\n",
       "    .dataframe tbody tr th {\n",
       "        vertical-align: top;\n",
       "    }\n",
       "\n",
       "    .dataframe thead th {\n",
       "        text-align: right;\n",
       "    }\n",
       "</style>\n",
       "<table border=\"1\" class=\"dataframe\">\n",
       "  <thead>\n",
       "    <tr style=\"text-align: right;\">\n",
       "      <th></th>\n",
       "      <th>new_user_id</th>\n",
       "      <th>性别</th>\n",
       "      <th>职业</th>\n",
       "      <th>教育程度</th>\n",
       "      <th>婚姻状态</th>\n",
       "      <th>户口类型</th>\n",
       "    </tr>\n",
       "  </thead>\n",
       "  <tbody>\n",
       "    <tr>\n",
       "      <th>0</th>\n",
       "      <td>7259fe272934e0dc348092c37544a445</td>\n",
       "      <td>女</td>\n",
       "      <td>公职</td>\n",
       "      <td>本科及以上</td>\n",
       "      <td>未婚</td>\n",
       "      <td>集体户口</td>\n",
       "    </tr>\n",
       "    <tr>\n",
       "      <th>1</th>\n",
       "      <td>0c87f6b1f7e0350a35841ba34df9d26a</td>\n",
       "      <td>男</td>\n",
       "      <td>公职</td>\n",
       "      <td>本科及以上</td>\n",
       "      <td>离异</td>\n",
       "      <td>集体户口</td>\n",
       "    </tr>\n",
       "    <tr>\n",
       "      <th>2</th>\n",
       "      <td>74c53a62f15cc039864aefc41170f81b</td>\n",
       "      <td>男</td>\n",
       "      <td>公职</td>\n",
       "      <td>大专</td>\n",
       "      <td>离异</td>\n",
       "      <td>家庭户口</td>\n",
       "    </tr>\n",
       "    <tr>\n",
       "      <th>3</th>\n",
       "      <td>211f56f356fa6ecc6334bb73e52c7b16</td>\n",
       "      <td>男</td>\n",
       "      <td>企业</td>\n",
       "      <td>高中</td>\n",
       "      <td>离异</td>\n",
       "      <td>农业户口</td>\n",
       "    </tr>\n",
       "    <tr>\n",
       "      <th>4</th>\n",
       "      <td>07b0d9ac7924424894141b2fecfa0ee0</td>\n",
       "      <td>男</td>\n",
       "      <td>公职</td>\n",
       "      <td>本科及以上</td>\n",
       "      <td>已婚</td>\n",
       "      <td>集体户口</td>\n",
       "    </tr>\n",
       "  </tbody>\n",
       "</table>\n",
       "</div>"
      ],
      "text/plain": [
       "                        new_user_id 性别  职业   教育程度 婚姻状态  户口类型\n",
       "0  7259fe272934e0dc348092c37544a445  女  公职  本科及以上   未婚  集体户口\n",
       "1  0c87f6b1f7e0350a35841ba34df9d26a  男  公职  本科及以上   离异  集体户口\n",
       "2  74c53a62f15cc039864aefc41170f81b  男  公职     大专   离异  家庭户口\n",
       "3  211f56f356fa6ecc6334bb73e52c7b16  男  企业     高中   离异  农业户口\n",
       "4  07b0d9ac7924424894141b2fecfa0ee0  男  公职  本科及以上   已婚  集体户口"
      ]
     },
     "execution_count": 22,
     "metadata": {},
     "output_type": "execute_result"
    }
   ],
   "source": [
    "userinfo_train.head(5)"
   ]
  },
  {
   "cell_type": "code",
   "execution_count": 23,
   "metadata": {
    "ExecuteTime": {
     "end_time": "2021-11-15T14:18:06.135360Z",
     "start_time": "2021-11-15T14:18:06.120361Z"
    }
   },
   "outputs": [
    {
     "data": {
      "text/html": [
       "<div>\n",
       "<style scoped>\n",
       "    .dataframe tbody tr th:only-of-type {\n",
       "        vertical-align: middle;\n",
       "    }\n",
       "\n",
       "    .dataframe tbody tr th {\n",
       "        vertical-align: top;\n",
       "    }\n",
       "\n",
       "    .dataframe thead th {\n",
       "        text-align: right;\n",
       "    }\n",
       "</style>\n",
       "<table border=\"1\" class=\"dataframe\">\n",
       "  <thead>\n",
       "    <tr style=\"text-align: right;\">\n",
       "      <th></th>\n",
       "      <th>new_user_id</th>\n",
       "      <th>交易时间戳</th>\n",
       "      <th>交易类型</th>\n",
       "      <th>交易金额</th>\n",
       "      <th>工资收入标记</th>\n",
       "      <th>交易时间</th>\n",
       "      <th>交易年</th>\n",
       "      <th>交易月</th>\n",
       "      <th>交易日</th>\n",
       "      <th>交易时</th>\n",
       "      <th>交易分</th>\n",
       "      <th>交易秒</th>\n",
       "    </tr>\n",
       "  </thead>\n",
       "  <tbody>\n",
       "    <tr>\n",
       "      <th>0</th>\n",
       "      <td>65b01fba105ee82613babff7c88929c5</td>\n",
       "      <td>58848407247</td>\n",
       "      <td>1</td>\n",
       "      <td>43.757548</td>\n",
       "      <td>0</td>\n",
       "      <td>2156-06-25 21:58:44</td>\n",
       "      <td>2156</td>\n",
       "      <td>6</td>\n",
       "      <td>25</td>\n",
       "      <td>21</td>\n",
       "      <td>58</td>\n",
       "      <td>44</td>\n",
       "    </tr>\n",
       "    <tr>\n",
       "      <th>1</th>\n",
       "      <td>65b01fba105ee82613babff7c88929c5</td>\n",
       "      <td>58849365297</td>\n",
       "      <td>1</td>\n",
       "      <td>42.143743</td>\n",
       "      <td>0</td>\n",
       "      <td>2156-06-27 00:35:29</td>\n",
       "      <td>2156</td>\n",
       "      <td>6</td>\n",
       "      <td>27</td>\n",
       "      <td>0</td>\n",
       "      <td>35</td>\n",
       "      <td>29</td>\n",
       "    </tr>\n",
       "    <tr>\n",
       "      <th>2</th>\n",
       "      <td>65b01fba105ee82613babff7c88929c5</td>\n",
       "      <td>58850118237</td>\n",
       "      <td>1</td>\n",
       "      <td>40.189051</td>\n",
       "      <td>0</td>\n",
       "      <td>2156-06-27 21:30:23</td>\n",
       "      <td>2156</td>\n",
       "      <td>6</td>\n",
       "      <td>27</td>\n",
       "      <td>21</td>\n",
       "      <td>30</td>\n",
       "      <td>23</td>\n",
       "    </tr>\n",
       "    <tr>\n",
       "      <th>3</th>\n",
       "      <td>65b01fba105ee82613babff7c88929c5</td>\n",
       "      <td>58850118447</td>\n",
       "      <td>1</td>\n",
       "      <td>40.189051</td>\n",
       "      <td>0</td>\n",
       "      <td>2156-06-27 21:30:44</td>\n",
       "      <td>2156</td>\n",
       "      <td>6</td>\n",
       "      <td>27</td>\n",
       "      <td>21</td>\n",
       "      <td>30</td>\n",
       "      <td>44</td>\n",
       "    </tr>\n",
       "    <tr>\n",
       "      <th>4</th>\n",
       "      <td>65b01fba105ee82613babff7c88929c5</td>\n",
       "      <td>58850244487</td>\n",
       "      <td>1</td>\n",
       "      <td>40.189051</td>\n",
       "      <td>0</td>\n",
       "      <td>2156-06-28 01:00:48</td>\n",
       "      <td>2156</td>\n",
       "      <td>6</td>\n",
       "      <td>28</td>\n",
       "      <td>1</td>\n",
       "      <td>0</td>\n",
       "      <td>48</td>\n",
       "    </tr>\n",
       "  </tbody>\n",
       "</table>\n",
       "</div>"
      ],
      "text/plain": [
       "                        new_user_id        交易时间戳  交易类型       交易金额  工资收入标记  \\\n",
       "0  65b01fba105ee82613babff7c88929c5  58848407247     1  43.757548       0   \n",
       "1  65b01fba105ee82613babff7c88929c5  58849365297     1  42.143743       0   \n",
       "2  65b01fba105ee82613babff7c88929c5  58850118237     1  40.189051       0   \n",
       "3  65b01fba105ee82613babff7c88929c5  58850118447     1  40.189051       0   \n",
       "4  65b01fba105ee82613babff7c88929c5  58850244487     1  40.189051       0   \n",
       "\n",
       "                  交易时间   交易年  交易月  交易日  交易时  交易分  交易秒  \n",
       "0  2156-06-25 21:58:44  2156    6   25   21   58   44  \n",
       "1  2156-06-27 00:35:29  2156    6   27    0   35   29  \n",
       "2  2156-06-27 21:30:23  2156    6   27   21   30   23  \n",
       "3  2156-06-27 21:30:44  2156    6   27   21   30   44  \n",
       "4  2156-06-28 01:00:48  2156    6   28    1    0   48  "
      ]
     },
     "execution_count": 23,
     "metadata": {},
     "output_type": "execute_result"
    }
   ],
   "source": [
    "bank_train.head(5)"
   ]
  },
  {
   "cell_type": "code",
   "execution_count": 24,
   "metadata": {
    "ExecuteTime": {
     "end_time": "2021-11-15T14:18:06.595360Z",
     "start_time": "2021-11-15T14:18:06.565362Z"
    }
   },
   "outputs": [
    {
     "data": {
      "text/html": [
       "<div>\n",
       "<style scoped>\n",
       "    .dataframe tbody tr th:only-of-type {\n",
       "        vertical-align: middle;\n",
       "    }\n",
       "\n",
       "    .dataframe tbody tr th {\n",
       "        vertical-align: top;\n",
       "    }\n",
       "\n",
       "    .dataframe thead th {\n",
       "        text-align: right;\n",
       "    }\n",
       "</style>\n",
       "<table border=\"1\" class=\"dataframe\">\n",
       "  <thead>\n",
       "    <tr style=\"text-align: right;\">\n",
       "      <th></th>\n",
       "      <th>new_user_id</th>\n",
       "      <th>账单时间戳</th>\n",
       "      <th>银行id</th>\n",
       "      <th>上期账单金额</th>\n",
       "      <th>上期还款金额</th>\n",
       "      <th>信用卡额度</th>\n",
       "      <th>本期账单余额</th>\n",
       "      <th>本期账单最低还款额</th>\n",
       "      <th>消费笔数</th>\n",
       "      <th>本期账单金额</th>\n",
       "      <th>...</th>\n",
       "      <th>可用金额</th>\n",
       "      <th>预借现金额度</th>\n",
       "      <th>还款状态</th>\n",
       "      <th>账单时间</th>\n",
       "      <th>账单年</th>\n",
       "      <th>账单月</th>\n",
       "      <th>账单日</th>\n",
       "      <th>账单时</th>\n",
       "      <th>账单分</th>\n",
       "      <th>账单秒</th>\n",
       "    </tr>\n",
       "  </thead>\n",
       "  <tbody>\n",
       "    <tr>\n",
       "      <th>0</th>\n",
       "      <td>eddcaa8984f8db5199ec28323efb18a4</td>\n",
       "      <td>59067443637</td>\n",
       "      <td>6</td>\n",
       "      <td>50.622246</td>\n",
       "      <td>50.657612</td>\n",
       "      <td>52.596975</td>\n",
       "      <td>50.897707</td>\n",
       "      <td>49.846899</td>\n",
       "      <td>1</td>\n",
       "      <td>26.457513</td>\n",
       "      <td>...</td>\n",
       "      <td>26.457513</td>\n",
       "      <td>51.933872</td>\n",
       "      <td>0</td>\n",
       "      <td>2157-03-06 10:19:23</td>\n",
       "      <td>2157</td>\n",
       "      <td>3</td>\n",
       "      <td>6</td>\n",
       "      <td>10</td>\n",
       "      <td>19</td>\n",
       "      <td>23</td>\n",
       "    </tr>\n",
       "    <tr>\n",
       "      <th>1</th>\n",
       "      <td>eddcaa8984f8db5199ec28323efb18a4</td>\n",
       "      <td>59067444017</td>\n",
       "      <td>6</td>\n",
       "      <td>50.897707</td>\n",
       "      <td>50.901821</td>\n",
       "      <td>52.596975</td>\n",
       "      <td>51.101179</td>\n",
       "      <td>49.911428</td>\n",
       "      <td>1</td>\n",
       "      <td>26.457513</td>\n",
       "      <td>...</td>\n",
       "      <td>26.457513</td>\n",
       "      <td>51.933872</td>\n",
       "      <td>0</td>\n",
       "      <td>2157-03-06 10:20:01</td>\n",
       "      <td>2157</td>\n",
       "      <td>3</td>\n",
       "      <td>6</td>\n",
       "      <td>10</td>\n",
       "      <td>20</td>\n",
       "      <td>1</td>\n",
       "    </tr>\n",
       "    <tr>\n",
       "      <th>2</th>\n",
       "      <td>eddcaa8984f8db5199ec28323efb18a4</td>\n",
       "      <td>59067444277</td>\n",
       "      <td>6</td>\n",
       "      <td>51.101179</td>\n",
       "      <td>51.137354</td>\n",
       "      <td>52.596975</td>\n",
       "      <td>51.283715</td>\n",
       "      <td>49.977605</td>\n",
       "      <td>1</td>\n",
       "      <td>26.457513</td>\n",
       "      <td>...</td>\n",
       "      <td>26.457513</td>\n",
       "      <td>51.933872</td>\n",
       "      <td>0</td>\n",
       "      <td>2157-03-06 10:20:27</td>\n",
       "      <td>2157</td>\n",
       "      <td>3</td>\n",
       "      <td>6</td>\n",
       "      <td>10</td>\n",
       "      <td>20</td>\n",
       "      <td>27</td>\n",
       "    </tr>\n",
       "    <tr>\n",
       "      <th>3</th>\n",
       "      <td>eddcaa8984f8db5199ec28323efb18a4</td>\n",
       "      <td>59067445157</td>\n",
       "      <td>6</td>\n",
       "      <td>51.283715</td>\n",
       "      <td>51.283799</td>\n",
       "      <td>52.915867</td>\n",
       "      <td>52.252502</td>\n",
       "      <td>50.474921</td>\n",
       "      <td>1</td>\n",
       "      <td>26.457513</td>\n",
       "      <td>...</td>\n",
       "      <td>26.457513</td>\n",
       "      <td>52.256811</td>\n",
       "      <td>0</td>\n",
       "      <td>2157-03-06 10:21:55</td>\n",
       "      <td>2157</td>\n",
       "      <td>3</td>\n",
       "      <td>6</td>\n",
       "      <td>10</td>\n",
       "      <td>21</td>\n",
       "      <td>55</td>\n",
       "    </tr>\n",
       "    <tr>\n",
       "      <th>4</th>\n",
       "      <td>eddcaa8984f8db5199ec28323efb18a4</td>\n",
       "      <td>59067445627</td>\n",
       "      <td>6</td>\n",
       "      <td>52.252502</td>\n",
       "      <td>52.256812</td>\n",
       "      <td>52.915867</td>\n",
       "      <td>52.304048</td>\n",
       "      <td>50.508400</td>\n",
       "      <td>1</td>\n",
       "      <td>26.457513</td>\n",
       "      <td>...</td>\n",
       "      <td>26.457513</td>\n",
       "      <td>52.256811</td>\n",
       "      <td>0</td>\n",
       "      <td>2157-03-06 10:22:42</td>\n",
       "      <td>2157</td>\n",
       "      <td>3</td>\n",
       "      <td>6</td>\n",
       "      <td>10</td>\n",
       "      <td>22</td>\n",
       "      <td>42</td>\n",
       "    </tr>\n",
       "  </tbody>\n",
       "</table>\n",
       "<p>5 rows × 22 columns</p>\n",
       "</div>"
      ],
      "text/plain": [
       "                        new_user_id        账单时间戳  银行id     上期账单金额     上期还款金额  \\\n",
       "0  eddcaa8984f8db5199ec28323efb18a4  59067443637     6  50.622246  50.657612   \n",
       "1  eddcaa8984f8db5199ec28323efb18a4  59067444017     6  50.897707  50.901821   \n",
       "2  eddcaa8984f8db5199ec28323efb18a4  59067444277     6  51.101179  51.137354   \n",
       "3  eddcaa8984f8db5199ec28323efb18a4  59067445157     6  51.283715  51.283799   \n",
       "4  eddcaa8984f8db5199ec28323efb18a4  59067445627     6  52.252502  52.256812   \n",
       "\n",
       "       信用卡额度     本期账单余额  本期账单最低还款额  消费笔数     本期账单金额 ...        可用金额  \\\n",
       "0  52.596975  50.897707  49.846899     1  26.457513 ...   26.457513   \n",
       "1  52.596975  51.101179  49.911428     1  26.457513 ...   26.457513   \n",
       "2  52.596975  51.283715  49.977605     1  26.457513 ...   26.457513   \n",
       "3  52.915867  52.252502  50.474921     1  26.457513 ...   26.457513   \n",
       "4  52.915867  52.304048  50.508400     1  26.457513 ...   26.457513   \n",
       "\n",
       "      预借现金额度  还款状态                 账单时间   账单年 账单月  账单日  账单时  账单分  账单秒  \n",
       "0  51.933872     0  2157-03-06 10:19:23  2157   3    6   10   19   23  \n",
       "1  51.933872     0  2157-03-06 10:20:01  2157   3    6   10   20    1  \n",
       "2  51.933872     0  2157-03-06 10:20:27  2157   3    6   10   20   27  \n",
       "3  52.256811     0  2157-03-06 10:21:55  2157   3    6   10   21   55  \n",
       "4  52.256811     0  2157-03-06 10:22:42  2157   3    6   10   22   42  \n",
       "\n",
       "[5 rows x 22 columns]"
      ]
     },
     "execution_count": 24,
     "metadata": {},
     "output_type": "execute_result"
    }
   ],
   "source": [
    "bill_train.head(5)"
   ]
  },
  {
   "cell_type": "code",
   "execution_count": 63,
   "metadata": {
    "ExecuteTime": {
     "end_time": "2021-11-15T14:18:53.850350Z",
     "start_time": "2021-11-15T14:18:53.839353Z"
    }
   },
   "outputs": [
    {
     "data": {
      "text/html": [
       "<div>\n",
       "<style scoped>\n",
       "    .dataframe tbody tr th:only-of-type {\n",
       "        vertical-align: middle;\n",
       "    }\n",
       "\n",
       "    .dataframe tbody tr th {\n",
       "        vertical-align: top;\n",
       "    }\n",
       "\n",
       "    .dataframe thead th {\n",
       "        text-align: right;\n",
       "    }\n",
       "</style>\n",
       "<table border=\"1\" class=\"dataframe\">\n",
       "  <thead>\n",
       "    <tr style=\"text-align: right;\">\n",
       "      <th></th>\n",
       "      <th>new_user_id</th>\n",
       "      <th>标签</th>\n",
       "      <th>分数</th>\n",
       "    </tr>\n",
       "  </thead>\n",
       "  <tbody>\n",
       "    <tr>\n",
       "      <th>0</th>\n",
       "      <td>eddcaa8984f8db5199ec28323efb18a4</td>\n",
       "      <td>0</td>\n",
       "      <td>80.619639</td>\n",
       "    </tr>\n",
       "    <tr>\n",
       "      <th>1</th>\n",
       "      <td>65b01fba105ee82613babff7c88929c5</td>\n",
       "      <td>1</td>\n",
       "      <td>53.052357</td>\n",
       "    </tr>\n",
       "    <tr>\n",
       "      <th>2</th>\n",
       "      <td>968083a2d1a7e6b5b85a66b0bc412830</td>\n",
       "      <td>1</td>\n",
       "      <td>46.796518</td>\n",
       "    </tr>\n",
       "    <tr>\n",
       "      <th>3</th>\n",
       "      <td>18aeed58fd39a58cc1430a3a417ed7a9</td>\n",
       "      <td>1</td>\n",
       "      <td>82.354501</td>\n",
       "    </tr>\n",
       "    <tr>\n",
       "      <th>4</th>\n",
       "      <td>bae4896cea4a34616ae3babca11439ae</td>\n",
       "      <td>1</td>\n",
       "      <td>83.758928</td>\n",
       "    </tr>\n",
       "  </tbody>\n",
       "</table>\n",
       "</div>"
      ],
      "text/plain": [
       "                        new_user_id  标签         分数\n",
       "0  eddcaa8984f8db5199ec28323efb18a4   0  80.619639\n",
       "1  65b01fba105ee82613babff7c88929c5   1  53.052357\n",
       "2  968083a2d1a7e6b5b85a66b0bc412830   1  46.796518\n",
       "3  18aeed58fd39a58cc1430a3a417ed7a9   1  82.354501\n",
       "4  bae4896cea4a34616ae3babca11439ae   1  83.758928"
      ]
     },
     "execution_count": 63,
     "metadata": {},
     "output_type": "execute_result"
    }
   ],
   "source": [
    "overdue_train.head(5)"
   ]
  },
  {
   "cell_type": "markdown",
   "metadata": {},
   "source": [
    "## 检查空值"
   ]
  },
  {
   "cell_type": "code",
   "execution_count": 26,
   "metadata": {
    "ExecuteTime": {
     "end_time": "2021-11-15T14:18:07.669361Z",
     "start_time": "2021-11-15T14:18:07.481362Z"
    }
   },
   "outputs": [
    {
     "name": "stdout",
     "output_type": "stream",
     "text": [
      "True\n",
      "False\n",
      "False\n",
      "False\n"
     ]
    }
   ],
   "source": [
    "for df in df_list:\n",
    "    print(np.any(df.isnull()))"
   ]
  },
  {
   "cell_type": "markdown",
   "metadata": {},
   "source": [
    "`userinfo_train` 里存在空值，看一下空值多不多。"
   ]
  },
  {
   "cell_type": "code",
   "execution_count": 27,
   "metadata": {
    "ExecuteTime": {
     "end_time": "2021-11-15T14:18:08.516461Z",
     "start_time": "2021-11-15T14:18:08.096359Z"
    }
   },
   "outputs": [
    {
     "name": "stdout",
     "output_type": "stream",
     "text": [
      "存在空值\n",
      "new_user_id    0\n",
      "性别             0\n",
      "职业             2\n",
      "教育程度           0\n",
      "婚姻状态           1\n",
      "户口类型           0\n",
      "dtype: int64\n",
      "                           new_user_id 性别   职业   教育程度 婚姻状态  户口类型\n",
      "31    3be79a55ccf09062cdff1b9c684179f9  男  NaN  本科及以上   离异  农业户口\n",
      "135   b074add6f740af33df4230f28d37a333  男  NaN     大专   离异  家庭户口\n",
      "5345  9f2e0eb314d821f8d075fbc9e64ce4f5  男   公职     高中  NaN  农业户口\n"
     ]
    }
   ],
   "source": [
    "if np.any(userinfo_train.isnull()):\n",
    "    print(\"存在空值\")\n",
    "else:\n",
    "    print(\"不存在空值\")\n",
    "# 各列有多少空值\n",
    "print(userinfo_train.isnull().sum(axis=0))\n",
    "# 顶多有 null_number 行是空值\n",
    "null_number = sum(userinfo_train.isnull().sum(axis=0))\n",
    "# 把所有空值的行显示出来\n",
    "print(userinfo_train[userinfo_train.isnull().T.any()].head(null_number))"
   ]
  },
  {
   "cell_type": "markdown",
   "metadata": {},
   "source": [
    "只有 `3` 行，因此我们仅仅删除这几行数据就好。"
   ]
  },
  {
   "cell_type": "code",
   "execution_count": 28,
   "metadata": {
    "ExecuteTime": {
     "end_time": "2021-11-15T14:18:08.995462Z",
     "start_time": "2021-11-15T14:18:08.981463Z"
    }
   },
   "outputs": [],
   "source": [
    "userinfo_train = userinfo_train[~userinfo_train.isnull().T.any()]"
   ]
  },
  {
   "cell_type": "code",
   "execution_count": 29,
   "metadata": {
    "ExecuteTime": {
     "end_time": "2021-11-15T14:18:09.488464Z",
     "start_time": "2021-11-15T14:18:09.475464Z"
    }
   },
   "outputs": [
    {
     "data": {
      "text/plain": [
       "(9997, 6)"
      ]
     },
     "execution_count": 29,
     "metadata": {},
     "output_type": "execute_result"
    }
   ],
   "source": [
    "userinfo_train.shape"
   ]
  },
  {
   "cell_type": "markdown",
   "metadata": {},
   "source": [
    "## 数据编码"
   ]
  },
  {
   "cell_type": "code",
   "execution_count": 30,
   "metadata": {
    "ExecuteTime": {
     "end_time": "2021-11-15T14:18:10.135588Z",
     "start_time": "2021-11-15T14:18:09.977462Z"
    }
   },
   "outputs": [],
   "source": [
    "def toDict(col):\n",
    "    \"\"\"\n",
    "    这个函数的作用：生成替换字典，加入 col 列有两种值 A B\n",
    "    则生成：{A: 0, B: 1}  即把 A 替换为 0 ， B 替换为 1\n",
    "    \"\"\"\n",
    "    res = {}\n",
    "    cnt = 0\n",
    "    for e in userinfo_train[col].unique():\n",
    "        res[e] = cnt\n",
    "        cnt += 1\n",
    "    return res\n",
    "# 生成列的替换字典\n",
    "dict1 = toDict(\"性别\")\n",
    "dict2 = toDict(\"职业\")\n",
    "dict3 = toDict(\"教育程度\")\n",
    "dict4 = toDict(\"婚姻状态\")\n",
    "dict5 = toDict(\"户口类型\")\n",
    "# 替换后结果\n",
    "userinfo_train = userinfo_train.replace({\"性别\": dict1, \"职业\": dict2, \"教育程度\": dict3, \"婚姻状态\": dict4, \"户口类型\": dict5})"
   ]
  },
  {
   "cell_type": "code",
   "execution_count": 31,
   "metadata": {
    "ExecuteTime": {
     "end_time": "2021-11-15T14:18:10.657567Z",
     "start_time": "2021-11-15T14:18:10.643578Z"
    }
   },
   "outputs": [
    {
     "data": {
      "text/html": [
       "<div>\n",
       "<style scoped>\n",
       "    .dataframe tbody tr th:only-of-type {\n",
       "        vertical-align: middle;\n",
       "    }\n",
       "\n",
       "    .dataframe tbody tr th {\n",
       "        vertical-align: top;\n",
       "    }\n",
       "\n",
       "    .dataframe thead th {\n",
       "        text-align: right;\n",
       "    }\n",
       "</style>\n",
       "<table border=\"1\" class=\"dataframe\">\n",
       "  <thead>\n",
       "    <tr style=\"text-align: right;\">\n",
       "      <th></th>\n",
       "      <th>new_user_id</th>\n",
       "      <th>性别</th>\n",
       "      <th>职业</th>\n",
       "      <th>教育程度</th>\n",
       "      <th>婚姻状态</th>\n",
       "      <th>户口类型</th>\n",
       "    </tr>\n",
       "  </thead>\n",
       "  <tbody>\n",
       "    <tr>\n",
       "      <th>0</th>\n",
       "      <td>7259fe272934e0dc348092c37544a445</td>\n",
       "      <td>0</td>\n",
       "      <td>0</td>\n",
       "      <td>0</td>\n",
       "      <td>0</td>\n",
       "      <td>0</td>\n",
       "    </tr>\n",
       "    <tr>\n",
       "      <th>1</th>\n",
       "      <td>0c87f6b1f7e0350a35841ba34df9d26a</td>\n",
       "      <td>1</td>\n",
       "      <td>0</td>\n",
       "      <td>0</td>\n",
       "      <td>1</td>\n",
       "      <td>0</td>\n",
       "    </tr>\n",
       "    <tr>\n",
       "      <th>2</th>\n",
       "      <td>74c53a62f15cc039864aefc41170f81b</td>\n",
       "      <td>1</td>\n",
       "      <td>0</td>\n",
       "      <td>1</td>\n",
       "      <td>1</td>\n",
       "      <td>1</td>\n",
       "    </tr>\n",
       "    <tr>\n",
       "      <th>3</th>\n",
       "      <td>211f56f356fa6ecc6334bb73e52c7b16</td>\n",
       "      <td>1</td>\n",
       "      <td>1</td>\n",
       "      <td>2</td>\n",
       "      <td>1</td>\n",
       "      <td>2</td>\n",
       "    </tr>\n",
       "    <tr>\n",
       "      <th>4</th>\n",
       "      <td>07b0d9ac7924424894141b2fecfa0ee0</td>\n",
       "      <td>1</td>\n",
       "      <td>0</td>\n",
       "      <td>0</td>\n",
       "      <td>2</td>\n",
       "      <td>0</td>\n",
       "    </tr>\n",
       "  </tbody>\n",
       "</table>\n",
       "</div>"
      ],
      "text/plain": [
       "                        new_user_id  性别  职业  教育程度  婚姻状态  户口类型\n",
       "0  7259fe272934e0dc348092c37544a445   0   0     0     0     0\n",
       "1  0c87f6b1f7e0350a35841ba34df9d26a   1   0     0     1     0\n",
       "2  74c53a62f15cc039864aefc41170f81b   1   0     1     1     1\n",
       "3  211f56f356fa6ecc6334bb73e52c7b16   1   1     2     1     2\n",
       "4  07b0d9ac7924424894141b2fecfa0ee0   1   0     0     2     0"
      ]
     },
     "execution_count": 31,
     "metadata": {},
     "output_type": "execute_result"
    }
   ],
   "source": [
    "userinfo_train.head(5)"
   ]
  },
  {
   "cell_type": "markdown",
   "metadata": {},
   "source": [
    "再试一试独热编码。"
   ]
  },
  {
   "cell_type": "code",
   "execution_count": 32,
   "metadata": {
    "ExecuteTime": {
     "end_time": "2021-11-15T14:18:11.197566Z",
     "start_time": "2021-11-15T14:18:11.135568Z"
    }
   },
   "outputs": [],
   "source": [
    "new_userinfo_train = pd.get_dummies(userinfo_train, columns=[\"性别\", \"职业\", \"教育程度\", \"婚姻状态\", \"户口类型\"])"
   ]
  },
  {
   "cell_type": "code",
   "execution_count": 33,
   "metadata": {
    "ExecuteTime": {
     "end_time": "2021-11-15T14:18:11.687569Z",
     "start_time": "2021-11-15T14:18:11.657571Z"
    }
   },
   "outputs": [
    {
     "data": {
      "text/html": [
       "<div>\n",
       "<style scoped>\n",
       "    .dataframe tbody tr th:only-of-type {\n",
       "        vertical-align: middle;\n",
       "    }\n",
       "\n",
       "    .dataframe tbody tr th {\n",
       "        vertical-align: top;\n",
       "    }\n",
       "\n",
       "    .dataframe thead th {\n",
       "        text-align: right;\n",
       "    }\n",
       "</style>\n",
       "<table border=\"1\" class=\"dataframe\">\n",
       "  <thead>\n",
       "    <tr style=\"text-align: right;\">\n",
       "      <th></th>\n",
       "      <th>new_user_id</th>\n",
       "      <th>性别_0</th>\n",
       "      <th>性别_1</th>\n",
       "      <th>性别_2</th>\n",
       "      <th>职业_0</th>\n",
       "      <th>职业_1</th>\n",
       "      <th>职业_2</th>\n",
       "      <th>职业_3</th>\n",
       "      <th>职业_4</th>\n",
       "      <th>教育程度_0</th>\n",
       "      <th>...</th>\n",
       "      <th>婚姻状态_1</th>\n",
       "      <th>婚姻状态_2</th>\n",
       "      <th>婚姻状态_3</th>\n",
       "      <th>婚姻状态_4</th>\n",
       "      <th>婚姻状态_5</th>\n",
       "      <th>户口类型_0</th>\n",
       "      <th>户口类型_1</th>\n",
       "      <th>户口类型_2</th>\n",
       "      <th>户口类型_3</th>\n",
       "      <th>户口类型_4</th>\n",
       "    </tr>\n",
       "  </thead>\n",
       "  <tbody>\n",
       "    <tr>\n",
       "      <th>0</th>\n",
       "      <td>7259fe272934e0dc348092c37544a445</td>\n",
       "      <td>1</td>\n",
       "      <td>0</td>\n",
       "      <td>0</td>\n",
       "      <td>1</td>\n",
       "      <td>0</td>\n",
       "      <td>0</td>\n",
       "      <td>0</td>\n",
       "      <td>0</td>\n",
       "      <td>1</td>\n",
       "      <td>...</td>\n",
       "      <td>0</td>\n",
       "      <td>0</td>\n",
       "      <td>0</td>\n",
       "      <td>0</td>\n",
       "      <td>0</td>\n",
       "      <td>1</td>\n",
       "      <td>0</td>\n",
       "      <td>0</td>\n",
       "      <td>0</td>\n",
       "      <td>0</td>\n",
       "    </tr>\n",
       "    <tr>\n",
       "      <th>1</th>\n",
       "      <td>0c87f6b1f7e0350a35841ba34df9d26a</td>\n",
       "      <td>0</td>\n",
       "      <td>1</td>\n",
       "      <td>0</td>\n",
       "      <td>1</td>\n",
       "      <td>0</td>\n",
       "      <td>0</td>\n",
       "      <td>0</td>\n",
       "      <td>0</td>\n",
       "      <td>1</td>\n",
       "      <td>...</td>\n",
       "      <td>1</td>\n",
       "      <td>0</td>\n",
       "      <td>0</td>\n",
       "      <td>0</td>\n",
       "      <td>0</td>\n",
       "      <td>1</td>\n",
       "      <td>0</td>\n",
       "      <td>0</td>\n",
       "      <td>0</td>\n",
       "      <td>0</td>\n",
       "    </tr>\n",
       "    <tr>\n",
       "      <th>2</th>\n",
       "      <td>74c53a62f15cc039864aefc41170f81b</td>\n",
       "      <td>0</td>\n",
       "      <td>1</td>\n",
       "      <td>0</td>\n",
       "      <td>1</td>\n",
       "      <td>0</td>\n",
       "      <td>0</td>\n",
       "      <td>0</td>\n",
       "      <td>0</td>\n",
       "      <td>0</td>\n",
       "      <td>...</td>\n",
       "      <td>1</td>\n",
       "      <td>0</td>\n",
       "      <td>0</td>\n",
       "      <td>0</td>\n",
       "      <td>0</td>\n",
       "      <td>0</td>\n",
       "      <td>1</td>\n",
       "      <td>0</td>\n",
       "      <td>0</td>\n",
       "      <td>0</td>\n",
       "    </tr>\n",
       "    <tr>\n",
       "      <th>3</th>\n",
       "      <td>211f56f356fa6ecc6334bb73e52c7b16</td>\n",
       "      <td>0</td>\n",
       "      <td>1</td>\n",
       "      <td>0</td>\n",
       "      <td>0</td>\n",
       "      <td>1</td>\n",
       "      <td>0</td>\n",
       "      <td>0</td>\n",
       "      <td>0</td>\n",
       "      <td>0</td>\n",
       "      <td>...</td>\n",
       "      <td>1</td>\n",
       "      <td>0</td>\n",
       "      <td>0</td>\n",
       "      <td>0</td>\n",
       "      <td>0</td>\n",
       "      <td>0</td>\n",
       "      <td>0</td>\n",
       "      <td>1</td>\n",
       "      <td>0</td>\n",
       "      <td>0</td>\n",
       "    </tr>\n",
       "    <tr>\n",
       "      <th>4</th>\n",
       "      <td>07b0d9ac7924424894141b2fecfa0ee0</td>\n",
       "      <td>0</td>\n",
       "      <td>1</td>\n",
       "      <td>0</td>\n",
       "      <td>1</td>\n",
       "      <td>0</td>\n",
       "      <td>0</td>\n",
       "      <td>0</td>\n",
       "      <td>0</td>\n",
       "      <td>1</td>\n",
       "      <td>...</td>\n",
       "      <td>0</td>\n",
       "      <td>1</td>\n",
       "      <td>0</td>\n",
       "      <td>0</td>\n",
       "      <td>0</td>\n",
       "      <td>1</td>\n",
       "      <td>0</td>\n",
       "      <td>0</td>\n",
       "      <td>0</td>\n",
       "      <td>0</td>\n",
       "    </tr>\n",
       "  </tbody>\n",
       "</table>\n",
       "<p>5 rows × 25 columns</p>\n",
       "</div>"
      ],
      "text/plain": [
       "                        new_user_id  性别_0  性别_1  性别_2  职业_0  职业_1  职业_2  职业_3  \\\n",
       "0  7259fe272934e0dc348092c37544a445     1     0     0     1     0     0     0   \n",
       "1  0c87f6b1f7e0350a35841ba34df9d26a     0     1     0     1     0     0     0   \n",
       "2  74c53a62f15cc039864aefc41170f81b     0     1     0     1     0     0     0   \n",
       "3  211f56f356fa6ecc6334bb73e52c7b16     0     1     0     0     1     0     0   \n",
       "4  07b0d9ac7924424894141b2fecfa0ee0     0     1     0     1     0     0     0   \n",
       "\n",
       "   职业_4  教育程度_0   ...    婚姻状态_1  婚姻状态_2  婚姻状态_3  婚姻状态_4  婚姻状态_5  户口类型_0  \\\n",
       "0     0       1   ...         0       0       0       0       0       1   \n",
       "1     0       1   ...         1       0       0       0       0       1   \n",
       "2     0       0   ...         1       0       0       0       0       0   \n",
       "3     0       0   ...         1       0       0       0       0       0   \n",
       "4     0       1   ...         0       1       0       0       0       1   \n",
       "\n",
       "   户口类型_1  户口类型_2  户口类型_3  户口类型_4  \n",
       "0       0       0       0       0  \n",
       "1       0       0       0       0  \n",
       "2       1       0       0       0  \n",
       "3       0       1       0       0  \n",
       "4       0       0       0       0  \n",
       "\n",
       "[5 rows x 25 columns]"
      ]
     },
     "execution_count": 33,
     "metadata": {},
     "output_type": "execute_result"
    }
   ],
   "source": [
    "new_userinfo_train.head(5)  # 为了保证后面的代码清晰，我们先不用独热编码（独热编码列名太多），这里仅仅展示"
   ]
  },
  {
   "cell_type": "markdown",
   "metadata": {},
   "source": [
    "## 单变量预测的效果？"
   ]
  },
  {
   "cell_type": "code",
   "execution_count": 34,
   "metadata": {
    "ExecuteTime": {
     "end_time": "2021-11-15T14:18:13.001476Z",
     "start_time": "2021-11-15T14:18:12.129570Z"
    }
   },
   "outputs": [
    {
     "name": "stdout",
     "output_type": "stream",
     "text": [
      "对“分数”列做回归任务，特征数量为 1 个， 均方差:189.5824\n"
     ]
    }
   ],
   "source": [
    "# 定义总表\n",
    "df = pd.merge(userinfo_train, overdue_train, on='new_user_id', how='left')\n",
    "\n",
    "feats = ['职业']\n",
    "X_train, X_test, Y_train, Y_test = train_test_split(df[feats], df[['分数']], test_size=0.2)\n",
    "model = LinearRegression()\n",
    "model.fit(X_train, Y_train)\n",
    "Y_pred_val = model.predict(X_test)\n",
    "mse = mean_squared_error(Y_test, Y_pred_val)\n",
    "print(f'对“分数”列做回归任务，特征数量为 1 个， 均方差:{mse :.4f}')"
   ]
  },
  {
   "cell_type": "code",
   "execution_count": 35,
   "metadata": {
    "ExecuteTime": {
     "end_time": "2021-11-15T14:18:13.745497Z",
     "start_time": "2021-11-15T14:18:13.528517Z"
    }
   },
   "outputs": [
    {
     "name": "stderr",
     "output_type": "stream",
     "text": [
      "D:\\Anaconda3\\lib\\site-packages\\sklearn\\utils\\validation.py:578: DataConversionWarning: A column-vector y was passed when a 1d array was expected. Please change the shape of y to (n_samples, ), for example using ravel().\n",
      "  y = column_or_1d(y, warn=True)\n",
      "D:\\Anaconda3\\lib\\site-packages\\sklearn\\metrics\\classification.py:1135: UndefinedMetricWarning: F-score is ill-defined and being set to 0.0 due to no predicted samples.\n",
      "  'precision', 'predicted', average, warn_for)\n"
     ]
    },
    {
     "data": {
      "image/png": "[encoded data removed]",
      "text/plain": [
       "<Figure size 432x288 with 1 Axes>"
      ]
     },
     "metadata": {
      "needs_background": "light"
     },
     "output_type": "display_data"
    }
   ],
   "source": [
    "feats = ['职业']\n",
    "X_train, X_test, Y_train, Y_test = train_test_split(df[feats], df[['标签']], test_size=0.2)\n",
    "model = LogisticRegression()\n",
    "model.fit(X_train, Y_train)\n",
    "Y_pred = model.predict_proba(X_test)[:, 1]  # 各个测试样本 softmax ，用于计算 roc\n",
    "Y_pred_lab = model.predict(X_test)  # 各个测试样本预测出的标签\n",
    "fpr, tpr, thresholds = roc_curve(Y_test, Y_pred)\n",
    "roc_auc = auc(fpr, tpr)\n",
    "plt.plot([0, 1], [0, 1], 'k--')\n",
    "plt.plot(fpr, tpr)\n",
    "plt.title(f'auc:{roc_auc :.3f}, f1 socre:{f1_score(Y_test, Y_pred_lab) :.3f}')\n",
    "plt.show()"
   ]
  },
  {
   "cell_type": "markdown",
   "metadata": {},
   "source": [
    "## 特征工程：第一阶段\n",
    "\n",
    "```python\n",
    "feat_1 = ['职业', '教育程度', '婚姻状态', '平均欠款金额', '平均工资收入']\n",
    "```"
   ]
  },
  {
   "cell_type": "code",
   "execution_count": 36,
   "metadata": {
    "ExecuteTime": {
     "end_time": "2021-11-15T14:18:14.549506Z",
     "start_time": "2021-11-15T14:18:14.245500Z"
    }
   },
   "outputs": [
    {
     "data": {
      "text/html": [
       "<div>\n",
       "<style scoped>\n",
       "    .dataframe tbody tr th:only-of-type {\n",
       "        vertical-align: middle;\n",
       "    }\n",
       "\n",
       "    .dataframe tbody tr th {\n",
       "        vertical-align: top;\n",
       "    }\n",
       "\n",
       "    .dataframe thead th {\n",
       "        text-align: right;\n",
       "    }\n",
       "</style>\n",
       "<table border=\"1\" class=\"dataframe\">\n",
       "  <thead>\n",
       "    <tr style=\"text-align: right;\">\n",
       "      <th></th>\n",
       "      <th>new_user_id</th>\n",
       "      <th>平均欠款金额</th>\n",
       "    </tr>\n",
       "  </thead>\n",
       "  <tbody>\n",
       "    <tr>\n",
       "      <th>0</th>\n",
       "      <td>0000a11bede26d01990cd7bf86a4ffed</td>\n",
       "      <td>1.595222</td>\n",
       "    </tr>\n",
       "    <tr>\n",
       "      <th>1</th>\n",
       "      <td>0001102f53f24a8952ed5b47f9564354</td>\n",
       "      <td>-1.647174</td>\n",
       "    </tr>\n",
       "    <tr>\n",
       "      <th>2</th>\n",
       "      <td>000228d848615f1320914e0cf6064d12</td>\n",
       "      <td>-24.352021</td>\n",
       "    </tr>\n",
       "    <tr>\n",
       "      <th>3</th>\n",
       "      <td>0003f283dfacd7100bba76d876cf94da</td>\n",
       "      <td>-3.289508</td>\n",
       "    </tr>\n",
       "    <tr>\n",
       "      <th>4</th>\n",
       "      <td>000fc975cf7a868719446414a5034eae</td>\n",
       "      <td>0.702195</td>\n",
       "    </tr>\n",
       "  </tbody>\n",
       "</table>\n",
       "</div>"
      ],
      "text/plain": [
       "                        new_user_id     平均欠款金额\n",
       "0  0000a11bede26d01990cd7bf86a4ffed   1.595222\n",
       "1  0001102f53f24a8952ed5b47f9564354  -1.647174\n",
       "2  000228d848615f1320914e0cf6064d12 -24.352021\n",
       "3  0003f283dfacd7100bba76d876cf94da  -3.289508\n",
       "4  000fc975cf7a868719446414a5034eae   0.702195"
      ]
     },
     "execution_count": 36,
     "metadata": {},
     "output_type": "execute_result"
    }
   ],
   "source": [
    "bill_train[\"欠款金额\"] = bill_train[\"上期账单金额\"] - bill_train[\"上期还款金额\"]\n",
    "agg_cormoney = bill_train.groupby(\"new_user_id\")[\"欠款金额\"].agg([\"mean\"])\n",
    "agg_cormoney.columns = [\"平均欠款金额\"]\n",
    "agg_cormoney.reset_index(inplace=True)\n",
    "agg_cormoney.head(5)"
   ]
  },
  {
   "cell_type": "code",
   "execution_count": 37,
   "metadata": {
    "ExecuteTime": {
     "end_time": "2021-11-15T14:18:15.100490Z",
     "start_time": "2021-11-15T14:18:15.071494Z"
    }
   },
   "outputs": [
    {
     "data": {
      "text/html": [
       "<div>\n",
       "<style scoped>\n",
       "    .dataframe tbody tr th:only-of-type {\n",
       "        vertical-align: middle;\n",
       "    }\n",
       "\n",
       "    .dataframe tbody tr th {\n",
       "        vertical-align: top;\n",
       "    }\n",
       "\n",
       "    .dataframe thead th {\n",
       "        text-align: right;\n",
       "    }\n",
       "</style>\n",
       "<table border=\"1\" class=\"dataframe\">\n",
       "  <thead>\n",
       "    <tr style=\"text-align: right;\">\n",
       "      <th></th>\n",
       "      <th>new_user_id</th>\n",
       "      <th>平均工资收入</th>\n",
       "    </tr>\n",
       "  </thead>\n",
       "  <tbody>\n",
       "    <tr>\n",
       "      <th>0</th>\n",
       "      <td>00375b8a7a62da4f578f4f4464fc4228</td>\n",
       "      <td>44.964550</td>\n",
       "    </tr>\n",
       "    <tr>\n",
       "      <th>1</th>\n",
       "      <td>00872649357929f1f3d7fafbe484810b</td>\n",
       "      <td>46.415984</td>\n",
       "    </tr>\n",
       "    <tr>\n",
       "      <th>2</th>\n",
       "      <td>00e44c200eeb161df7d08ac1b79bd4a7</td>\n",
       "      <td>47.292812</td>\n",
       "    </tr>\n",
       "    <tr>\n",
       "      <th>3</th>\n",
       "      <td>02419b54629f540d3430e6ba8230aac4</td>\n",
       "      <td>45.600048</td>\n",
       "    </tr>\n",
       "    <tr>\n",
       "      <th>4</th>\n",
       "      <td>024c12c231362aa4206c001674abe30f</td>\n",
       "      <td>40.380961</td>\n",
       "    </tr>\n",
       "  </tbody>\n",
       "</table>\n",
       "</div>"
      ],
      "text/plain": [
       "                        new_user_id     平均工资收入\n",
       "0  00375b8a7a62da4f578f4f4464fc4228  44.964550\n",
       "1  00872649357929f1f3d7fafbe484810b  46.415984\n",
       "2  00e44c200eeb161df7d08ac1b79bd4a7  47.292812\n",
       "3  02419b54629f540d3430e6ba8230aac4  45.600048\n",
       "4  024c12c231362aa4206c001674abe30f  40.380961"
      ]
     },
     "execution_count": 37,
     "metadata": {},
     "output_type": "execute_result"
    }
   ],
   "source": [
    "agg_salary1 = bank_train[bank_train['工资收入标记'] == 1].groupby(\"new_user_id\")['交易金额'].agg([\"mean\"])\n",
    "agg_salary1.columns = ['平均工资收入']\n",
    "agg_salary1.reset_index(inplace=True)\n",
    "agg_salary1.head(5)"
   ]
  },
  {
   "cell_type": "code",
   "execution_count": 38,
   "metadata": {
    "ExecuteTime": {
     "end_time": "2021-11-15T14:18:15.619622Z",
     "start_time": "2021-11-15T14:18:15.588530Z"
    }
   },
   "outputs": [],
   "source": [
    "# 第一阶段用到的特征\n",
    "feat_1 = ['职业', '教育程度', '婚姻状态', '平均欠款金额', '平均工资收入']\n",
    "\n",
    "df = pd.merge(df, agg_cormoney, on='new_user_id', how='left')\n",
    "df = pd.merge(df, agg_salary1, on='new_user_id', how='left')\n",
    "df = df.fillna(0)  # 填补空值"
   ]
  },
  {
   "cell_type": "markdown",
   "metadata": {},
   "source": [
    "### 看看效果"
   ]
  },
  {
   "cell_type": "code",
   "execution_count": 39,
   "metadata": {
    "ExecuteTime": {
     "end_time": "2021-11-15T14:18:16.337706Z",
     "start_time": "2021-11-15T14:18:16.162704Z"
    }
   },
   "outputs": [
    {
     "name": "stdout",
     "output_type": "stream",
     "text": [
      "对“分数”列做回归任务，特征数量为 5 个， 均方差:95.7431\n"
     ]
    }
   ],
   "source": [
    "feats = feat_1\n",
    "X_train, X_test, Y_train, Y_test = train_test_split(df[feats], df[['分数']], test_size=0.2)\n",
    "model = LinearRegression()\n",
    "model.fit(X_train, Y_train)\n",
    "Y_pred_val = model.predict(X_test)\n",
    "mse = mean_squared_error(Y_test, Y_pred_val)\n",
    "print(f'对“分数”列做回归任务，特征数量为 {len(feats)} 个， 均方差:{mse :.4f}')"
   ]
  },
  {
   "cell_type": "code",
   "execution_count": 40,
   "metadata": {
    "ExecuteTime": {
     "end_time": "2021-11-15T14:18:17.016796Z",
     "start_time": "2021-11-15T14:18:16.907794Z"
    }
   },
   "outputs": [
    {
     "name": "stderr",
     "output_type": "stream",
     "text": [
      "D:\\Anaconda3\\lib\\site-packages\\sklearn\\utils\\validation.py:578: DataConversionWarning: A column-vector y was passed when a 1d array was expected. Please change the shape of y to (n_samples, ), for example using ravel().\n",
      "  y = column_or_1d(y, warn=True)\n"
     ]
    },
    {
     "data": {
      "image/png": "[encoded data removed]",
      "text/plain": [
       "<Figure size 432x288 with 1 Axes>"
      ]
     },
     "metadata": {
      "needs_background": "light"
     },
     "output_type": "display_data"
    }
   ],
   "source": [
    "feats = feat_1\n",
    "X_train, X_test, Y_train, Y_test = train_test_split(df[feats], df[['标签']], test_size=0.2)\n",
    "model = LogisticRegression()\n",
    "model.fit(X_train, Y_train)\n",
    "Y_pred = model.predict_proba(X_test)[:, 1]  # 各个测试样本 softmax ，用于计算 roc\n",
    "Y_pred_lab = model.predict(X_test)  # 各个测试样本预测出的标签\n",
    "fpr, tpr, thresholds = roc_curve(Y_test, Y_pred)\n",
    "roc_auc = auc(fpr, tpr)\n",
    "plt.plot([0, 1], [0, 1], 'k--')\n",
    "plt.plot(fpr, tpr)\n",
    "plt.title(f'auc:{roc_auc :.3f}, f1 socre:{f1_score(Y_test, Y_pred_lab) :.3f}')\n",
    "plt.show()"
   ]
  },
  {
   "cell_type": "markdown",
   "metadata": {
    "ExecuteTime": {
     "end_time": "2021-11-01T07:47:56.877946Z",
     "start_time": "2021-11-01T07:47:56.865947Z"
    }
   },
   "source": [
    "## 特征工程：第二阶段\n",
    "\n",
    "```python\n",
    "feat_2 = [\"过去半年内工资增长趋势\", \"过去半年内收入波动\", \"平均还款比例\"]\n",
    "```"
   ]
  },
  {
   "cell_type": "code",
   "execution_count": 41,
   "metadata": {
    "ExecuteTime": {
     "end_time": "2021-11-15T14:18:17.645863Z",
     "start_time": "2021-11-15T14:18:17.554865Z"
    }
   },
   "outputs": [
    {
     "data": {
      "text/html": [
       "<div>\n",
       "<style scoped>\n",
       "    .dataframe tbody tr th:only-of-type {\n",
       "        vertical-align: middle;\n",
       "    }\n",
       "\n",
       "    .dataframe tbody tr th {\n",
       "        vertical-align: top;\n",
       "    }\n",
       "\n",
       "    .dataframe thead th {\n",
       "        text-align: right;\n",
       "    }\n",
       "</style>\n",
       "<table border=\"1\" class=\"dataframe\">\n",
       "  <thead>\n",
       "    <tr style=\"text-align: right;\">\n",
       "      <th></th>\n",
       "      <th>new_user_id</th>\n",
       "      <th>平均还款比例</th>\n",
       "    </tr>\n",
       "  </thead>\n",
       "  <tbody>\n",
       "    <tr>\n",
       "      <th>0</th>\n",
       "      <td>0000a11bede26d01990cd7bf86a4ffed</td>\n",
       "      <td>1.032223</td>\n",
       "    </tr>\n",
       "    <tr>\n",
       "      <th>1</th>\n",
       "      <td>0001102f53f24a8952ed5b47f9564354</td>\n",
       "      <td>0.968705</td>\n",
       "    </tr>\n",
       "    <tr>\n",
       "      <th>2</th>\n",
       "      <td>000228d848615f1320914e0cf6064d12</td>\n",
       "      <td>0.520719</td>\n",
       "    </tr>\n",
       "    <tr>\n",
       "      <th>3</th>\n",
       "      <td>0003f283dfacd7100bba76d876cf94da</td>\n",
       "      <td>0.926490</td>\n",
       "    </tr>\n",
       "    <tr>\n",
       "      <th>4</th>\n",
       "      <td>000fc975cf7a868719446414a5034eae</td>\n",
       "      <td>1.014207</td>\n",
       "    </tr>\n",
       "  </tbody>\n",
       "</table>\n",
       "</div>"
      ],
      "text/plain": [
       "                        new_user_id    平均还款比例\n",
       "0  0000a11bede26d01990cd7bf86a4ffed  1.032223\n",
       "1  0001102f53f24a8952ed5b47f9564354  0.968705\n",
       "2  000228d848615f1320914e0cf6064d12  0.520719\n",
       "3  0003f283dfacd7100bba76d876cf94da  0.926490\n",
       "4  000fc975cf7a868719446414a5034eae  1.014207"
      ]
     },
     "execution_count": 41,
     "metadata": {},
     "output_type": "execute_result"
    }
   ],
   "source": [
    "bill_train[\"还款比例\"] = bill_train[\"上期账单金额\"] / bill_train[\"上期还款金额\"]\n",
    "agg_cormoney = bill_train.groupby(\"new_user_id\")[\"还款比例\"].agg([\"mean\"])\n",
    "agg_cormoney.columns = [\"平均还款比例\"]\n",
    "agg_cormoney.reset_index(inplace=True)\n",
    "agg_cormoney.head(5)"
   ]
  },
  {
   "cell_type": "code",
   "execution_count": 42,
   "metadata": {
    "ExecuteTime": {
     "end_time": "2021-11-15T14:18:25.659594Z",
     "start_time": "2021-11-15T14:18:17.647864Z"
    }
   },
   "outputs": [],
   "source": [
    "def cust_period(value, op=\"days\", op_period=0, base_dt=None):\n",
    "    value_list = value.tolist()\n",
    "    \n",
    "    while \"-1\" in value_list:\n",
    "        value_list.remove(\"-1\")\n",
    "    if len(value_list) != 0:\n",
    "        if not base_dt:\n",
    "            max_dt = max(value_list)\n",
    "        else:\n",
    "            max_dt = base_dt\n",
    "\n",
    "        if op == \"years\":\n",
    "            end_dt = (datetime.datetime.strptime(max_dt, \"%Y-%m-%d %H:%M:%S\") + relativedelta(years=-op_period)).strftime(\"%Y-%m-%d %H:%M:%S\")\n",
    "        elif op == \"months\":\n",
    "            end_dt = (datetime.datetime.strptime(max_dt, \"%Y-%m-%d %H:%M:%S\") + relativedelta(months=-op_period)).strftime(\"%Y-%m-%d %H:%M:%S\")\n",
    "        elif op == \"weeks\":\n",
    "            end_dt = (datetime.datetime.strptime(max_dt, \"%Y-%m-%d %H:%M:%S\") + relativedelta(weeks=-op_period)).strftime(\"%Y-%m-%d %H:%M:%S\")\n",
    "        elif op == \"days\":\n",
    "            end_dt = (datetime.datetime.strptime(max_dt, \"%Y-%m-%d %H:%M:%S\") + relativedelta(days=-op_period)).strftime(\"%Y-%m-%d %H:%M:%S\")\n",
    "        else:\n",
    "            print(\"Wrong operation unit of time!\")\n",
    "            exit()\n",
    "        period = list(value.values >= end_dt)\n",
    "        return period\n",
    "    else:\n",
    "        return [True]*len(value.tolist())\n",
    "\n",
    "\n",
    "# 过去半年内工资增长趋势\n",
    "agg_agg_6m = bank_train[bank_train['工资收入标记'] == 1].groupby(\"new_user_id\")[\"交易金额\",\"交易时间\"]\n",
    "def func(x):  # 和 apply 联合使用取出最近6个月的数据\n",
    "    idxs = cust_period(x[\"交易时间\"], \"months\", 6)\n",
    "    return x[idxs]\n",
    "agg_agg_6m = agg_agg_6m.apply(func)\n",
    "agg_agg_6m = agg_agg_6m.groupby(\"new_user_id\")[\"交易金额\"].agg([\"sum\"])\n",
    "agg_agg_6m.columns = [\"6月内工资收入\"]\n",
    "agg_agg_6m.reset_index(inplace=True)\n",
    "agg_agg_3m = bank_train[bank_train['工资收入标记'] == 1].groupby(\"new_user_id\")[\"交易金额\",\"交易时间\"]\n",
    "def func(x):  # 和 apply 联合使用取出最近3个月的数据\n",
    "    idxs = cust_period(x[\"交易时间\"], \"months\", 3)\n",
    "    return x[idxs]\n",
    "agg_agg_3m = agg_agg_3m.apply(func)\n",
    "agg_agg_3m = agg_agg_3m.groupby(\"new_user_id\")[\"交易金额\"].agg([\"sum\"])\n",
    "agg_agg_3m.columns = [\"3月内工资收入\"]\n",
    "agg_agg_3m.reset_index(inplace=True)\n",
    "agg_tend_3m = pd.merge(agg_agg_6m, agg_agg_3m, how='left', on=['new_user_id'])\n",
    "agg_tend_3m[\"半年到3月前工资收入\"] = agg_tend_3m[\"6月内工资收入\"] - agg_tend_3m['3月内工资收入']\n",
    "def cal(x):\n",
    "    if x['3月内工资收入'] >= x['半年到3月前工资收入']:\n",
    "        return 1\n",
    "    return 0\n",
    "agg_tend_3m[\"过去半年内工资增长趋势\"] = agg_tend_3m.apply(cal, axis=1)\n",
    "\n",
    "\n",
    "# 过去半年内收入波动\n",
    "# 交易类型是 0 的为收入，1 是支出\n",
    "in_train = bank_train[bank_train['交易类型'] == 1]\n",
    "# 以月为单位统计标准差\n",
    "agg_agg_tot = in_train.groupby(\"new_user_id\")[['new_user_id']].agg('count')\n",
    "agg_agg_tot.columns = ['None']\n",
    "agg_agg_tot.reset_index(inplace=True)\n",
    "agg_agg_tot = agg_agg_tot[['new_user_id']]\n",
    "for i in range(1, 7):\n",
    "    agg_agg_ins = in_train.groupby(\"new_user_id\")[\"交易金额\",\"交易时间\"]\n",
    "    def func(x):  # 和 apply 联合使用取出最近i个月的数据\n",
    "        idxs = cust_period(x[\"交易时间\"], \"months\", i)\n",
    "        return x[idxs]\n",
    "    agg_agg_ins = agg_agg_ins.apply(func)\n",
    "    agg_agg_ins = agg_agg_ins.groupby(\"new_user_id\")[\"交易金额\"].agg([\"sum\"])\n",
    "    agg_agg_ins.columns = [f\"{i}月内收入\"]\n",
    "    agg_agg_ins.reset_index(inplace=True)\n",
    "    agg_agg_tot = pd.merge(agg_agg_tot, agg_agg_ins, how='left', on=['new_user_id'])\n",
    "for i in range(2, 7):\n",
    "    agg_agg_tot[f'{i-1}到{i}月收入'] = agg_agg_tot[f\"{i}月内收入\"] - agg_agg_tot[f\"{i-1}月内收入\"]\n",
    "agg_agg_tot[f'{0}到{1}月收入'] = agg_agg_tot[f\"{1}月内收入\"]\n",
    "cols = [f'{i-1}到{i}月收入' for i in range(1, 7)]\n",
    "def func(x):  # 和 apply 联用计算各个月收入标准差\n",
    "    tmp = []\n",
    "    for c in cols:  # cols 是['1到2月收入', '2到3月收入', '3到4月收入', ...]\n",
    "        tmp.append(x[c])\n",
    "    return np.std(tmp)  # 这里 apply 中 axis=1 ，x 是每一行数据， apply 分别对每一行执行 func\n",
    "agg_agg_tot['过去半年内收入波动'] = agg_agg_tot.apply(func, axis=1)"
   ]
  },
  {
   "cell_type": "code",
   "execution_count": 43,
   "metadata": {
    "ExecuteTime": {
     "end_time": "2021-11-15T14:18:25.674594Z",
     "start_time": "2021-11-15T14:18:25.660594Z"
    }
   },
   "outputs": [
    {
     "data": {
      "text/html": [
       "<div>\n",
       "<style scoped>\n",
       "    .dataframe tbody tr th:only-of-type {\n",
       "        vertical-align: middle;\n",
       "    }\n",
       "\n",
       "    .dataframe tbody tr th {\n",
       "        vertical-align: top;\n",
       "    }\n",
       "\n",
       "    .dataframe thead th {\n",
       "        text-align: right;\n",
       "    }\n",
       "</style>\n",
       "<table border=\"1\" class=\"dataframe\">\n",
       "  <thead>\n",
       "    <tr style=\"text-align: right;\">\n",
       "      <th></th>\n",
       "      <th>new_user_id</th>\n",
       "      <th>6月内工资收入</th>\n",
       "      <th>3月内工资收入</th>\n",
       "      <th>半年到3月前工资收入</th>\n",
       "      <th>过去半年内工资增长趋势</th>\n",
       "    </tr>\n",
       "  </thead>\n",
       "  <tbody>\n",
       "    <tr>\n",
       "      <th>0</th>\n",
       "      <td>00375b8a7a62da4f578f4f4464fc4228</td>\n",
       "      <td>179.858202</td>\n",
       "      <td>179.858202</td>\n",
       "      <td>0.000000</td>\n",
       "      <td>1</td>\n",
       "    </tr>\n",
       "    <tr>\n",
       "      <th>1</th>\n",
       "      <td>00872649357929f1f3d7fafbe484810b</td>\n",
       "      <td>232.079920</td>\n",
       "      <td>232.079920</td>\n",
       "      <td>0.000000</td>\n",
       "      <td>1</td>\n",
       "    </tr>\n",
       "    <tr>\n",
       "      <th>2</th>\n",
       "      <td>00e44c200eeb161df7d08ac1b79bd4a7</td>\n",
       "      <td>47.292812</td>\n",
       "      <td>47.292812</td>\n",
       "      <td>0.000000</td>\n",
       "      <td>1</td>\n",
       "    </tr>\n",
       "    <tr>\n",
       "      <th>3</th>\n",
       "      <td>02419b54629f540d3430e6ba8230aac4</td>\n",
       "      <td>723.807150</td>\n",
       "      <td>505.340387</td>\n",
       "      <td>218.466763</td>\n",
       "      <td>1</td>\n",
       "    </tr>\n",
       "    <tr>\n",
       "      <th>4</th>\n",
       "      <td>024c12c231362aa4206c001674abe30f</td>\n",
       "      <td>444.190576</td>\n",
       "      <td>240.997538</td>\n",
       "      <td>203.193037</td>\n",
       "      <td>1</td>\n",
       "    </tr>\n",
       "    <tr>\n",
       "      <th>5</th>\n",
       "      <td>0283fd1f4cc29ecccb91393bc8938e1c</td>\n",
       "      <td>371.598070</td>\n",
       "      <td>232.855828</td>\n",
       "      <td>138.742242</td>\n",
       "      <td>1</td>\n",
       "    </tr>\n",
       "    <tr>\n",
       "      <th>6</th>\n",
       "      <td>029adc5d08f3948df629055485aeceb0</td>\n",
       "      <td>325.453135</td>\n",
       "      <td>185.783126</td>\n",
       "      <td>139.670009</td>\n",
       "      <td>1</td>\n",
       "    </tr>\n",
       "    <tr>\n",
       "      <th>7</th>\n",
       "      <td>0308e51ca45954096c940b9f6c79b649</td>\n",
       "      <td>45.972927</td>\n",
       "      <td>45.972927</td>\n",
       "      <td>0.000000</td>\n",
       "      <td>1</td>\n",
       "    </tr>\n",
       "    <tr>\n",
       "      <th>8</th>\n",
       "      <td>031d455bd7a7cb53e924c1378319a989</td>\n",
       "      <td>326.879609</td>\n",
       "      <td>140.095452</td>\n",
       "      <td>186.784157</td>\n",
       "      <td>0</td>\n",
       "    </tr>\n",
       "    <tr>\n",
       "      <th>9</th>\n",
       "      <td>03527bc0cb94b4cd2c75d1206e948269</td>\n",
       "      <td>128.677487</td>\n",
       "      <td>128.677487</td>\n",
       "      <td>0.000000</td>\n",
       "      <td>1</td>\n",
       "    </tr>\n",
       "  </tbody>\n",
       "</table>\n",
       "</div>"
      ],
      "text/plain": [
       "                        new_user_id     6月内工资收入     3月内工资收入  半年到3月前工资收入  \\\n",
       "0  00375b8a7a62da4f578f4f4464fc4228  179.858202  179.858202    0.000000   \n",
       "1  00872649357929f1f3d7fafbe484810b  232.079920  232.079920    0.000000   \n",
       "2  00e44c200eeb161df7d08ac1b79bd4a7   47.292812   47.292812    0.000000   \n",
       "3  02419b54629f540d3430e6ba8230aac4  723.807150  505.340387  218.466763   \n",
       "4  024c12c231362aa4206c001674abe30f  444.190576  240.997538  203.193037   \n",
       "5  0283fd1f4cc29ecccb91393bc8938e1c  371.598070  232.855828  138.742242   \n",
       "6  029adc5d08f3948df629055485aeceb0  325.453135  185.783126  139.670009   \n",
       "7  0308e51ca45954096c940b9f6c79b649   45.972927   45.972927    0.000000   \n",
       "8  031d455bd7a7cb53e924c1378319a989  326.879609  140.095452  186.784157   \n",
       "9  03527bc0cb94b4cd2c75d1206e948269  128.677487  128.677487    0.000000   \n",
       "\n",
       "   过去半年内工资增长趋势  \n",
       "0            1  \n",
       "1            1  \n",
       "2            1  \n",
       "3            1  \n",
       "4            1  \n",
       "5            1  \n",
       "6            1  \n",
       "7            1  \n",
       "8            0  \n",
       "9            1  "
      ]
     },
     "execution_count": 43,
     "metadata": {},
     "output_type": "execute_result"
    }
   ],
   "source": [
    "agg_tend_3m.head(10)"
   ]
  },
  {
   "cell_type": "code",
   "execution_count": 44,
   "metadata": {
    "ExecuteTime": {
     "end_time": "2021-11-15T14:18:25.705594Z",
     "start_time": "2021-11-15T14:18:25.676596Z"
    }
   },
   "outputs": [
    {
     "data": {
      "text/html": [
       "<div>\n",
       "<style scoped>\n",
       "    .dataframe tbody tr th:only-of-type {\n",
       "        vertical-align: middle;\n",
       "    }\n",
       "\n",
       "    .dataframe tbody tr th {\n",
       "        vertical-align: top;\n",
       "    }\n",
       "\n",
       "    .dataframe thead th {\n",
       "        text-align: right;\n",
       "    }\n",
       "</style>\n",
       "<table border=\"1\" class=\"dataframe\">\n",
       "  <thead>\n",
       "    <tr style=\"text-align: right;\">\n",
       "      <th></th>\n",
       "      <th>new_user_id</th>\n",
       "      <th>1月内收入</th>\n",
       "      <th>2月内收入</th>\n",
       "      <th>3月内收入</th>\n",
       "      <th>4月内收入</th>\n",
       "      <th>5月内收入</th>\n",
       "      <th>6月内收入</th>\n",
       "      <th>1到2月收入</th>\n",
       "      <th>2到3月收入</th>\n",
       "      <th>3到4月收入</th>\n",
       "      <th>4到5月收入</th>\n",
       "      <th>5到6月收入</th>\n",
       "      <th>0到1月收入</th>\n",
       "      <th>过去半年内收入波动</th>\n",
       "    </tr>\n",
       "  </thead>\n",
       "  <tbody>\n",
       "    <tr>\n",
       "      <th>0</th>\n",
       "      <td>0003f283dfacd7100bba76d876cf94da</td>\n",
       "      <td>1370.029320</td>\n",
       "      <td>2077.131122</td>\n",
       "      <td>2409.089923</td>\n",
       "      <td>3188.894728</td>\n",
       "      <td>4111.918439</td>\n",
       "      <td>4570.785390</td>\n",
       "      <td>707.101802</td>\n",
       "      <td>331.958801</td>\n",
       "      <td>779.804805</td>\n",
       "      <td>923.023711</td>\n",
       "      <td>458.866951</td>\n",
       "      <td>1370.029320</td>\n",
       "      <td>335.604913</td>\n",
       "    </tr>\n",
       "    <tr>\n",
       "      <th>1</th>\n",
       "      <td>00284cf15ae27d1ddf4f93922cd7bcb5</td>\n",
       "      <td>12325.866287</td>\n",
       "      <td>23200.344244</td>\n",
       "      <td>40680.862121</td>\n",
       "      <td>60546.818365</td>\n",
       "      <td>60546.818365</td>\n",
       "      <td>60546.818365</td>\n",
       "      <td>10874.477957</td>\n",
       "      <td>17480.517877</td>\n",
       "      <td>19865.956244</td>\n",
       "      <td>0.000000</td>\n",
       "      <td>0.000000</td>\n",
       "      <td>12325.866287</td>\n",
       "      <td>7739.721904</td>\n",
       "    </tr>\n",
       "    <tr>\n",
       "      <th>2</th>\n",
       "      <td>00375b8a7a62da4f578f4f4464fc4228</td>\n",
       "      <td>6791.505674</td>\n",
       "      <td>9954.923321</td>\n",
       "      <td>9954.923321</td>\n",
       "      <td>10772.738636</td>\n",
       "      <td>10772.738636</td>\n",
       "      <td>11216.671980</td>\n",
       "      <td>3163.417647</td>\n",
       "      <td>0.000000</td>\n",
       "      <td>817.815315</td>\n",
       "      <td>0.000000</td>\n",
       "      <td>443.933344</td>\n",
       "      <td>6791.505674</td>\n",
       "      <td>2450.466084</td>\n",
       "    </tr>\n",
       "    <tr>\n",
       "      <th>3</th>\n",
       "      <td>0057bbe021e9c3fc79834e3ff126bb98</td>\n",
       "      <td>1131.440292</td>\n",
       "      <td>1836.303262</td>\n",
       "      <td>3327.108790</td>\n",
       "      <td>5238.269238</td>\n",
       "      <td>6419.212381</td>\n",
       "      <td>7321.210754</td>\n",
       "      <td>704.862970</td>\n",
       "      <td>1490.805528</td>\n",
       "      <td>1911.160448</td>\n",
       "      <td>1180.943143</td>\n",
       "      <td>901.998373</td>\n",
       "      <td>1131.440292</td>\n",
       "      <td>393.043172</td>\n",
       "    </tr>\n",
       "    <tr>\n",
       "      <th>4</th>\n",
       "      <td>00872649357929f1f3d7fafbe484810b</td>\n",
       "      <td>664.916185</td>\n",
       "      <td>1321.637488</td>\n",
       "      <td>1536.418315</td>\n",
       "      <td>1619.892389</td>\n",
       "      <td>1917.798447</td>\n",
       "      <td>1958.840734</td>\n",
       "      <td>656.721302</td>\n",
       "      <td>214.780827</td>\n",
       "      <td>83.474075</td>\n",
       "      <td>297.906057</td>\n",
       "      <td>41.042287</td>\n",
       "      <td>664.916185</td>\n",
       "      <td>250.804742</td>\n",
       "    </tr>\n",
       "  </tbody>\n",
       "</table>\n",
       "</div>"
      ],
      "text/plain": [
       "                        new_user_id         1月内收入         2月内收入         3月内收入  \\\n",
       "0  0003f283dfacd7100bba76d876cf94da   1370.029320   2077.131122   2409.089923   \n",
       "1  00284cf15ae27d1ddf4f93922cd7bcb5  12325.866287  23200.344244  40680.862121   \n",
       "2  00375b8a7a62da4f578f4f4464fc4228   6791.505674   9954.923321   9954.923321   \n",
       "3  0057bbe021e9c3fc79834e3ff126bb98   1131.440292   1836.303262   3327.108790   \n",
       "4  00872649357929f1f3d7fafbe484810b    664.916185   1321.637488   1536.418315   \n",
       "\n",
       "          4月内收入         5月内收入         6月内收入        1到2月收入        2到3月收入  \\\n",
       "0   3188.894728   4111.918439   4570.785390    707.101802    331.958801   \n",
       "1  60546.818365  60546.818365  60546.818365  10874.477957  17480.517877   \n",
       "2  10772.738636  10772.738636  11216.671980   3163.417647      0.000000   \n",
       "3   5238.269238   6419.212381   7321.210754    704.862970   1490.805528   \n",
       "4   1619.892389   1917.798447   1958.840734    656.721302    214.780827   \n",
       "\n",
       "         3到4月收入       4到5月收入      5到6月收入        0到1月收入    过去半年内收入波动  \n",
       "0    779.804805   923.023711  458.866951   1370.029320   335.604913  \n",
       "1  19865.956244     0.000000    0.000000  12325.866287  7739.721904  \n",
       "2    817.815315     0.000000  443.933344   6791.505674  2450.466084  \n",
       "3   1911.160448  1180.943143  901.998373   1131.440292   393.043172  \n",
       "4     83.474075   297.906057   41.042287    664.916185   250.804742  "
      ]
     },
     "execution_count": 44,
     "metadata": {},
     "output_type": "execute_result"
    }
   ],
   "source": [
    "agg_agg_tot.head(5)"
   ]
  },
  {
   "cell_type": "code",
   "execution_count": 45,
   "metadata": {
    "ExecuteTime": {
     "end_time": "2021-11-15T14:18:25.752596Z",
     "start_time": "2021-11-15T14:18:25.707595Z"
    }
   },
   "outputs": [],
   "source": [
    "# 第二阶段用到的特征\n",
    "feat_2 = [\"过去半年内工资增长趋势\", \"过去半年内收入波动\", \"平均还款比例\"]\n",
    "\n",
    "# 定义总表\n",
    "df = pd.merge(df, agg_cormoney, on='new_user_id', how='left')\n",
    "df = pd.merge(df, agg_tend_3m[['new_user_id', '过去半年内工资增长趋势']], on='new_user_id', how='left')\n",
    "df = pd.merge(df, agg_agg_tot[['new_user_id', '过去半年内收入波动']], on='new_user_id', how='left')\n",
    "df = df.fillna(0)  # 填补空值"
   ]
  },
  {
   "cell_type": "markdown",
   "metadata": {},
   "source": [
    "### 看看效果"
   ]
  },
  {
   "cell_type": "code",
   "execution_count": 46,
   "metadata": {
    "ExecuteTime": {
     "end_time": "2021-11-15T14:18:25.768595Z",
     "start_time": "2021-11-15T14:18:25.754594Z"
    }
   },
   "outputs": [
    {
     "name": "stdout",
     "output_type": "stream",
     "text": [
      "对“分数”列做回归任务，特征数量为 8 个， 均方差:66.3948\n"
     ]
    }
   ],
   "source": [
    "feats = feat_1 + feat_2\n",
    "X_train, X_test, Y_train, Y_test = train_test_split(df[feats], df[['分数']], test_size=0.2)\n",
    "model = LinearRegression()\n",
    "model.fit(X_train, Y_train)\n",
    "Y_pred_val = model.predict(X_test)\n",
    "mse = mean_squared_error(Y_test, Y_pred_val)\n",
    "print(f'对“分数”列做回归任务，特征数量为 {len(feats)} 个， 均方差:{mse :.4f}')"
   ]
  },
  {
   "cell_type": "code",
   "execution_count": 47,
   "metadata": {
    "ExecuteTime": {
     "end_time": "2021-11-15T14:18:25.924596Z",
     "start_time": "2021-11-15T14:18:25.770596Z"
    }
   },
   "outputs": [
    {
     "name": "stderr",
     "output_type": "stream",
     "text": [
      "D:\\Anaconda3\\lib\\site-packages\\sklearn\\utils\\validation.py:578: DataConversionWarning: A column-vector y was passed when a 1d array was expected. Please change the shape of y to (n_samples, ), for example using ravel().\n",
      "  y = column_or_1d(y, warn=True)\n"
     ]
    },
    {
     "data": {
      "image/png": "[encoded data removed]",
      "text/plain": [
       "<Figure size 432x288 with 1 Axes>"
      ]
     },
     "metadata": {
      "needs_background": "light"
     },
     "output_type": "display_data"
    }
   ],
   "source": [
    "X_train, X_test, Y_train, Y_test = train_test_split(df[feats], df[['标签']], test_size=0.2)\n",
    "model = LogisticRegression()\n",
    "model.fit(X_train, Y_train)\n",
    "Y_pred = model.predict_proba(X_test)[:, 1]  # 各个测试样本 softmax ，用于计算 roc\n",
    "Y_pred_lab = model.predict(X_test)  # 各个测试样本预测出的标签\n",
    "fpr, tpr, thresholds = roc_curve(Y_test, Y_pred)\n",
    "roc_auc = auc(fpr, tpr)\n",
    "plt.plot([0, 1], [0, 1], 'k--')\n",
    "plt.plot(fpr, tpr)\n",
    "plt.title(f'auc:{roc_auc :.3f}, f1 socre:{f1_score(Y_test, Y_pred_lab) :.3f}')\n",
    "plt.show()"
   ]
  },
  {
   "cell_type": "markdown",
   "metadata": {},
   "source": [
    "## 特征工程：第三阶段\n",
    "\n",
    "```python\n",
    "feat_3 = ['平均本期还款总额', '平均信用卡使用额度', '平均本期账单余额比信用卡额度',\n",
    "    '最大工资收入', '最小工资收入', '最大非工资收入', '最小非工资收入',\n",
    "       '60天内工资收入_sum', '最近30天内工资收入_sum', '上个30天内工资收入_sum', '工资收入变化趋势',\n",
    "       '60天内非工资收入_sum', '最近30天内非工资收入_sum', '上个30天内非工资收入_sum', '非工资收入变化趋势',\n",
    "       '最近3天交易金额', '最近30天交易金额', '最近2月交易金额', '交易类型_0_交易金额_max',\n",
    "       '交易类型_0_交易金额_min', '交易类型_0_交易金额_mean', '交易类型_0_交易金额_count',\n",
    "       '交易类型_0_交易金额_sum', '交易类型_1_交易金额_max', '交易类型_1_交易金额_min',\n",
    "       '交易类型_1_交易金额_mean', '交易类型_1_交易金额_count', '交易类型_1_交易金额_sum'\n",
    "]\n",
    "```"
   ]
  },
  {
   "cell_type": "code",
   "execution_count": 48,
   "metadata": {
    "ExecuteTime": {
     "end_time": "2021-11-15T14:18:30.340594Z",
     "start_time": "2021-11-15T14:18:30.310595Z"
    }
   },
   "outputs": [
    {
     "data": {
      "text/html": [
       "<div>\n",
       "<style scoped>\n",
       "    .dataframe tbody tr th:only-of-type {\n",
       "        vertical-align: middle;\n",
       "    }\n",
       "\n",
       "    .dataframe tbody tr th {\n",
       "        vertical-align: top;\n",
       "    }\n",
       "\n",
       "    .dataframe thead th {\n",
       "        text-align: right;\n",
       "    }\n",
       "</style>\n",
       "<table border=\"1\" class=\"dataframe\">\n",
       "  <thead>\n",
       "    <tr style=\"text-align: right;\">\n",
       "      <th></th>\n",
       "      <th>new_user_id</th>\n",
       "      <th>上期账单金额</th>\n",
       "      <th>上期还款金额</th>\n",
       "      <th>本期账单金额</th>\n",
       "      <th>调整金额</th>\n",
       "      <th>循环利息</th>\n",
       "      <th>信用卡额度</th>\n",
       "      <th>可用金额</th>\n",
       "      <th>本期账单余额</th>\n",
       "    </tr>\n",
       "  </thead>\n",
       "  <tbody>\n",
       "    <tr>\n",
       "      <th>0</th>\n",
       "      <td>eddcaa8984f8db5199ec28323efb18a4</td>\n",
       "      <td>50.622246</td>\n",
       "      <td>50.657612</td>\n",
       "      <td>26.457513</td>\n",
       "      <td>26.457513</td>\n",
       "      <td>26.457513</td>\n",
       "      <td>52.596975</td>\n",
       "      <td>26.457513</td>\n",
       "      <td>50.897707</td>\n",
       "    </tr>\n",
       "    <tr>\n",
       "      <th>1</th>\n",
       "      <td>eddcaa8984f8db5199ec28323efb18a4</td>\n",
       "      <td>50.897707</td>\n",
       "      <td>50.901821</td>\n",
       "      <td>26.457513</td>\n",
       "      <td>26.457513</td>\n",
       "      <td>26.457513</td>\n",
       "      <td>52.596975</td>\n",
       "      <td>26.457513</td>\n",
       "      <td>51.101179</td>\n",
       "    </tr>\n",
       "    <tr>\n",
       "      <th>2</th>\n",
       "      <td>eddcaa8984f8db5199ec28323efb18a4</td>\n",
       "      <td>51.101179</td>\n",
       "      <td>51.137354</td>\n",
       "      <td>26.457513</td>\n",
       "      <td>26.457513</td>\n",
       "      <td>26.457513</td>\n",
       "      <td>52.596975</td>\n",
       "      <td>26.457513</td>\n",
       "      <td>51.283715</td>\n",
       "    </tr>\n",
       "    <tr>\n",
       "      <th>3</th>\n",
       "      <td>eddcaa8984f8db5199ec28323efb18a4</td>\n",
       "      <td>51.283715</td>\n",
       "      <td>51.283799</td>\n",
       "      <td>26.457513</td>\n",
       "      <td>26.457513</td>\n",
       "      <td>26.457513</td>\n",
       "      <td>52.915867</td>\n",
       "      <td>26.457513</td>\n",
       "      <td>52.252502</td>\n",
       "    </tr>\n",
       "    <tr>\n",
       "      <th>4</th>\n",
       "      <td>eddcaa8984f8db5199ec28323efb18a4</td>\n",
       "      <td>52.252502</td>\n",
       "      <td>52.256812</td>\n",
       "      <td>26.457513</td>\n",
       "      <td>26.457513</td>\n",
       "      <td>26.457513</td>\n",
       "      <td>52.915867</td>\n",
       "      <td>26.457513</td>\n",
       "      <td>52.304048</td>\n",
       "    </tr>\n",
       "  </tbody>\n",
       "</table>\n",
       "</div>"
      ],
      "text/plain": [
       "                        new_user_id     上期账单金额     上期还款金额     本期账单金额  \\\n",
       "0  eddcaa8984f8db5199ec28323efb18a4  50.622246  50.657612  26.457513   \n",
       "1  eddcaa8984f8db5199ec28323efb18a4  50.897707  50.901821  26.457513   \n",
       "2  eddcaa8984f8db5199ec28323efb18a4  51.101179  51.137354  26.457513   \n",
       "3  eddcaa8984f8db5199ec28323efb18a4  51.283715  51.283799  26.457513   \n",
       "4  eddcaa8984f8db5199ec28323efb18a4  52.252502  52.256812  26.457513   \n",
       "\n",
       "        调整金额       循环利息      信用卡额度       可用金额     本期账单余额  \n",
       "0  26.457513  26.457513  52.596975  26.457513  50.897707  \n",
       "1  26.457513  26.457513  52.596975  26.457513  51.101179  \n",
       "2  26.457513  26.457513  52.596975  26.457513  51.283715  \n",
       "3  26.457513  26.457513  52.915867  26.457513  52.252502  \n",
       "4  26.457513  26.457513  52.915867  26.457513  52.304048  "
      ]
     },
     "execution_count": 48,
     "metadata": {},
     "output_type": "execute_result"
    }
   ],
   "source": [
    "bill_train[['new_user_id', '上期账单金额', '上期还款金额', '本期账单金额', '调整金额', '循环利息', '信用卡额度', '可用金额', '本期账单余额']].head(5)"
   ]
  },
  {
   "cell_type": "code",
   "execution_count": 49,
   "metadata": {
    "ExecuteTime": {
     "end_time": "2021-11-15T14:18:30.482597Z",
     "start_time": "2021-11-15T14:18:30.342599Z"
    }
   },
   "outputs": [
    {
     "data": {
      "text/html": [
       "<div>\n",
       "<style scoped>\n",
       "    .dataframe tbody tr th:only-of-type {\n",
       "        vertical-align: middle;\n",
       "    }\n",
       "\n",
       "    .dataframe tbody tr th {\n",
       "        vertical-align: top;\n",
       "    }\n",
       "\n",
       "    .dataframe thead th {\n",
       "        text-align: right;\n",
       "    }\n",
       "</style>\n",
       "<table border=\"1\" class=\"dataframe\">\n",
       "  <thead>\n",
       "    <tr style=\"text-align: right;\">\n",
       "      <th></th>\n",
       "      <th>new_user_id</th>\n",
       "      <th>平均本期还款总额</th>\n",
       "      <th>平均信用卡使用额度</th>\n",
       "      <th>平均本期账单余额比信用卡额度</th>\n",
       "    </tr>\n",
       "  </thead>\n",
       "  <tbody>\n",
       "    <tr>\n",
       "      <th>0</th>\n",
       "      <td>0000a11bede26d01990cd7bf86a4ffed</td>\n",
       "      <td>58.992290</td>\n",
       "      <td>25.229282</td>\n",
       "      <td>0.999978</td>\n",
       "    </tr>\n",
       "    <tr>\n",
       "      <th>1</th>\n",
       "      <td>0001102f53f24a8952ed5b47f9564354</td>\n",
       "      <td>26.549467</td>\n",
       "      <td>25.400320</td>\n",
       "      <td>0.833627</td>\n",
       "    </tr>\n",
       "    <tr>\n",
       "      <th>2</th>\n",
       "      <td>000228d848615f1320914e0cf6064d12</td>\n",
       "      <td>46.899987</td>\n",
       "      <td>24.982204</td>\n",
       "      <td>0.997087</td>\n",
       "    </tr>\n",
       "    <tr>\n",
       "      <th>3</th>\n",
       "      <td>0003f283dfacd7100bba76d876cf94da</td>\n",
       "      <td>42.336529</td>\n",
       "      <td>19.557016</td>\n",
       "      <td>0.994457</td>\n",
       "    </tr>\n",
       "    <tr>\n",
       "      <th>4</th>\n",
       "      <td>000fc975cf7a868719446414a5034eae</td>\n",
       "      <td>51.901119</td>\n",
       "      <td>23.668352</td>\n",
       "      <td>1.097286</td>\n",
       "    </tr>\n",
       "  </tbody>\n",
       "</table>\n",
       "</div>"
      ],
      "text/plain": [
       "                        new_user_id   平均本期还款总额  平均信用卡使用额度  平均本期账单余额比信用卡额度\n",
       "0  0000a11bede26d01990cd7bf86a4ffed  58.992290  25.229282        0.999978\n",
       "1  0001102f53f24a8952ed5b47f9564354  26.549467  25.400320        0.833627\n",
       "2  000228d848615f1320914e0cf6064d12  46.899987  24.982204        0.997087\n",
       "3  0003f283dfacd7100bba76d876cf94da  42.336529  19.557016        0.994457\n",
       "4  000fc975cf7a868719446414a5034eae  51.901119  23.668352        1.097286"
      ]
     },
     "execution_count": 49,
     "metadata": {},
     "output_type": "execute_result"
    }
   ],
   "source": [
    "def make_feats_for_bills(data):\n",
    "    data[\"本期还款总额\"] = data[\"上期账单金额\"] - data[\"上期还款金额\"] + data[\"本期账单金额\"] - data[\"调整金额\"] + data[\"循环利息\"]\n",
    "    data[\"信用卡使用额度\"] = data[\"信用卡额度\"] - data[\"可用金额\"]\n",
    "    data[\"本期账单余额比信用卡额度\"] = data[\"本期账单余额\"] / data[\"信用卡额度\"]\n",
    "    return data\n",
    "bill_train = make_feats_for_bills(bill_train)\n",
    "cormoeny_cols = ['本期还款总额', '信用卡使用额度', '本期账单余额比信用卡额度']\n",
    "agg_cormoney = bill_train.groupby(\"new_user_id\")[cormoeny_cols].agg([\"mean\"])\n",
    "agg_cormoney.columns = ['平均本期还款总额', '平均信用卡使用额度', '平均本期账单余额比信用卡额度']\n",
    "agg_cormoney.reset_index(inplace=True)\n",
    "agg_cormoney.head(5)"
   ]
  },
  {
   "cell_type": "code",
   "execution_count": 50,
   "metadata": {
    "ExecuteTime": {
     "end_time": "2021-11-15T14:18:30.928604Z",
     "start_time": "2021-11-15T14:18:30.483602Z"
    }
   },
   "outputs": [],
   "source": [
    "agg_salary1_max = bank_train[bank_train['工资收入标记'] == 1].groupby(\"new_user_id\")['交易金额'].agg([\"max\"])\n",
    "agg_salary1_max.columns = ['最大工资收入']\n",
    "agg_salary1_max.reset_index(inplace=True)\n",
    "agg_salary1_min = bank_train[bank_train['工资收入标记'] == 1].groupby(\"new_user_id\")['交易金额'].agg([\"min\"])\n",
    "agg_salary1_min.columns = ['最小工资收入']\n",
    "agg_salary1_min.reset_index(inplace=True)\n",
    "agg_salary0_max = bank_train[bank_train['工资收入标记'] == 0].groupby(\"new_user_id\")['交易金额'].agg([\"max\"])\n",
    "agg_salary0_max.columns = ['最大非工资收入']\n",
    "agg_salary0_max.reset_index(inplace=True)\n",
    "agg_salary0_min = bank_train[bank_train['工资收入标记'] == 0].groupby(\"new_user_id\")['交易金额'].agg([\"min\"])\n",
    "agg_salary0_min.columns = ['最小非工资收入']\n",
    "agg_salary0_min.reset_index(inplace=True)"
   ]
  },
  {
   "cell_type": "code",
   "execution_count": 51,
   "metadata": {
    "ExecuteTime": {
     "end_time": "2021-11-15T14:18:34.134384Z",
     "start_time": "2021-11-15T14:18:30.933601Z"
    }
   },
   "outputs": [],
   "source": [
    "# 工资收入变化趋势\n",
    "def func(x):  # 和 apply 联合使用取出最近60天的数据\n",
    "    idxs = cust_period(x[\"交易时间\"], \"days\", 60)\n",
    "    return x[idxs]\n",
    "agg_agg_1_00_60 = bank_train[bank_train['工资收入标记'] == 1].groupby(\"new_user_id\")[\"交易金额\",\"交易时间\"].apply(func)\n",
    "agg_agg_1_00_60 = agg_agg_1_00_60.groupby(\"new_user_id\")[\"交易金额\"].agg([\"sum\"])\n",
    "agg_agg_1_00_60.columns = \"60天内工资收入_\" + agg_agg_1_00_60.columns\n",
    "agg_agg_1_00_60.reset_index(inplace=True)\n",
    "def func(x):  # 和 apply 联合使用取出最近30天的数据\n",
    "    idxs = cust_period(x[\"交易时间\"], \"days\", 30)\n",
    "    return x[idxs]\n",
    "agg_agg_1_30_60 = bank_train[bank_train['工资收入标记'] == 1].groupby(\"new_user_id\")[\"交易金额\",\"交易时间\"].apply(func)\n",
    "agg_agg_1_30_60 = agg_agg_1_30_60.groupby(\"new_user_id\")[\"交易金额\"].agg([\"sum\"])\n",
    "agg_agg_1_30_60.columns = \"最近30天内工资收入_\" + agg_agg_1_30_60.columns\n",
    "agg_agg_1_30_60.reset_index(inplace=True)\n",
    "agg_agg_tend1 = pd.merge(agg_agg_1_00_60, agg_agg_1_30_60, how='left', on=['new_user_id'])\n",
    "agg_agg_tend1[\"上个30天内工资收入_sum\"] = agg_agg_tend1[\"60天内工资收入_sum\"] - agg_agg_tend1['最近30天内工资收入_sum']\n",
    "def calc(x):\n",
    "    if x['最近30天内工资收入_sum'] >= x['上个30天内工资收入_sum']:\n",
    "        return 1\n",
    "    return 0\n",
    "agg_agg_tend1[\"工资收入变化趋势\"] = agg_agg_tend1.apply(calc, axis=1)\n",
    "# 非工资收入变化趋势\n",
    "def func(x):  # 和 apply 联合使用取出最近60天的数据\n",
    "    idxs = cust_period(x[\"交易时间\"], \"days\", 60)\n",
    "    return x[idxs]\n",
    "agg_agg_2_00_60 = bank_train[bank_train['工资收入标记'] == 0].groupby(\"new_user_id\")[\"交易金额\",\"交易时间\"].apply(func)\n",
    "agg_agg_2_00_60 = agg_agg_2_00_60.groupby(\"new_user_id\")[\"交易金额\"].agg([\"sum\"])\n",
    "agg_agg_2_00_60.columns = \"60天内非工资收入_\" + agg_agg_2_00_60.columns\n",
    "agg_agg_2_00_60.reset_index(inplace=True)\n",
    "def func(x):  # 和 apply 联合使用取出最近30天的数据\n",
    "    idxs = cust_period(x[\"交易时间\"], \"days\", 30)\n",
    "    return x[idxs]\n",
    "agg_agg_2_30_60 = bank_train[bank_train['工资收入标记'] == 0].groupby(\"new_user_id\")[\"交易金额\",\"交易时间\"].apply(func)\n",
    "agg_agg_2_30_60 = agg_agg_2_30_60.groupby(\"new_user_id\")[\"交易金额\"].agg([\"sum\"])\n",
    "agg_agg_2_30_60.columns = \"最近30天内非工资收入_\" + agg_agg_2_30_60.columns\n",
    "agg_agg_2_30_60.reset_index(inplace=True)\n",
    "agg_agg_tend2 = pd.merge(agg_agg_2_00_60, agg_agg_2_30_60, how='left', on=['new_user_id'])\n",
    "agg_agg_tend2[\"上个30天内非工资收入_sum\"] = agg_agg_tend2[\"60天内非工资收入_sum\"] - agg_agg_tend2['最近30天内非工资收入_sum']\n",
    "def calc(x):\n",
    "    if x['最近30天内非工资收入_sum'] >= x['上个30天内非工资收入_sum']:\n",
    "        return 1\n",
    "    return 0\n",
    "agg_agg_tend2[\"非工资收入变化趋势\"] = agg_agg_tend2.apply(calc, axis=1)"
   ]
  },
  {
   "cell_type": "code",
   "execution_count": 52,
   "metadata": {
    "ExecuteTime": {
     "end_time": "2021-11-15T14:18:34.150380Z",
     "start_time": "2021-11-15T14:18:34.137386Z"
    }
   },
   "outputs": [
    {
     "data": {
      "text/html": [
       "<div>\n",
       "<style scoped>\n",
       "    .dataframe tbody tr th:only-of-type {\n",
       "        vertical-align: middle;\n",
       "    }\n",
       "\n",
       "    .dataframe tbody tr th {\n",
       "        vertical-align: top;\n",
       "    }\n",
       "\n",
       "    .dataframe thead th {\n",
       "        text-align: right;\n",
       "    }\n",
       "</style>\n",
       "<table border=\"1\" class=\"dataframe\">\n",
       "  <thead>\n",
       "    <tr style=\"text-align: right;\">\n",
       "      <th></th>\n",
       "      <th>new_user_id</th>\n",
       "      <th>60天内工资收入_sum</th>\n",
       "      <th>最近30天内工资收入_sum</th>\n",
       "      <th>上个30天内工资收入_sum</th>\n",
       "      <th>工资收入变化趋势</th>\n",
       "    </tr>\n",
       "  </thead>\n",
       "  <tbody>\n",
       "    <tr>\n",
       "      <th>0</th>\n",
       "      <td>00375b8a7a62da4f578f4f4464fc4228</td>\n",
       "      <td>134.438279</td>\n",
       "      <td>45.603411</td>\n",
       "      <td>88.834868</td>\n",
       "      <td>0</td>\n",
       "    </tr>\n",
       "    <tr>\n",
       "      <th>1</th>\n",
       "      <td>00872649357929f1f3d7fafbe484810b</td>\n",
       "      <td>185.907274</td>\n",
       "      <td>185.907274</td>\n",
       "      <td>0.000000</td>\n",
       "      <td>1</td>\n",
       "    </tr>\n",
       "    <tr>\n",
       "      <th>2</th>\n",
       "      <td>00e44c200eeb161df7d08ac1b79bd4a7</td>\n",
       "      <td>47.292812</td>\n",
       "      <td>47.292812</td>\n",
       "      <td>0.000000</td>\n",
       "      <td>1</td>\n",
       "    </tr>\n",
       "    <tr>\n",
       "      <th>3</th>\n",
       "      <td>02419b54629f540d3430e6ba8230aac4</td>\n",
       "      <td>458.439674</td>\n",
       "      <td>184.426852</td>\n",
       "      <td>274.012822</td>\n",
       "      <td>0</td>\n",
       "    </tr>\n",
       "    <tr>\n",
       "      <th>4</th>\n",
       "      <td>024c12c231362aa4206c001674abe30f</td>\n",
       "      <td>240.997538</td>\n",
       "      <td>201.300426</td>\n",
       "      <td>39.697112</td>\n",
       "      <td>1</td>\n",
       "    </tr>\n",
       "  </tbody>\n",
       "</table>\n",
       "</div>"
      ],
      "text/plain": [
       "                        new_user_id  60天内工资收入_sum  最近30天内工资收入_sum  \\\n",
       "0  00375b8a7a62da4f578f4f4464fc4228    134.438279       45.603411   \n",
       "1  00872649357929f1f3d7fafbe484810b    185.907274      185.907274   \n",
       "2  00e44c200eeb161df7d08ac1b79bd4a7     47.292812       47.292812   \n",
       "3  02419b54629f540d3430e6ba8230aac4    458.439674      184.426852   \n",
       "4  024c12c231362aa4206c001674abe30f    240.997538      201.300426   \n",
       "\n",
       "   上个30天内工资收入_sum  工资收入变化趋势  \n",
       "0       88.834868         0  \n",
       "1        0.000000         1  \n",
       "2        0.000000         1  \n",
       "3      274.012822         0  \n",
       "4       39.697112         1  "
      ]
     },
     "execution_count": 52,
     "metadata": {},
     "output_type": "execute_result"
    }
   ],
   "source": [
    "agg_agg_tend1.head(5)"
   ]
  },
  {
   "cell_type": "code",
   "execution_count": 53,
   "metadata": {
    "ExecuteTime": {
     "end_time": "2021-11-15T14:18:38.063837Z",
     "start_time": "2021-11-15T14:18:34.152383Z"
    }
   },
   "outputs": [],
   "source": [
    "# 最近3天交易金额\n",
    "def func(x):  # 和 apply 联合使用取出最近3天的数据\n",
    "    idxs = cust_period(x[\"交易时间\"], \"days\", 3)\n",
    "    return x[idxs]\n",
    "agg_3dtrade = bank_train.groupby(\"new_user_id\")[\"交易金额\",\"交易时间\"].apply(func)\n",
    "agg_3dtrade = agg_3dtrade.groupby(\"new_user_id\")[\"交易金额\"].agg([\"sum\"])\n",
    "agg_3dtrade.columns = [\"最近3天交易金额\"]\n",
    "agg_3dtrade.reset_index(inplace=True)\n",
    "# 最近30天交易金额\n",
    "def func(x):  # 和 apply 联合使用取出最近30天的数据\n",
    "    idxs = cust_period(x[\"交易时间\"], \"days\", 30)\n",
    "    return x[idxs]\n",
    "agg_30dtrade = bank_train.groupby(\"new_user_id\")[\"交易金额\",\"交易时间\"].apply(func)\n",
    "agg_30dtrade = agg_30dtrade.groupby(\"new_user_id\")[\"交易金额\"].agg([\"sum\"])\n",
    "agg_30dtrade.columns = [\"最近30天交易金额\"]\n",
    "agg_30dtrade.reset_index(inplace=True)\n",
    "# 最近2月交易金额\n",
    "def func(x):  # 和 apply 联合使用取出最近2个月的数据\n",
    "    idxs = cust_period(x[\"交易时间\"], \"months\", 2)\n",
    "    return x[idxs]\n",
    "agg_2mtrade = bank_train.groupby(\"new_user_id\")[\"交易金额\",\"交易时间\"].apply(func)\n",
    "agg_2mtrade = agg_2mtrade.groupby(\"new_user_id\")[\"交易金额\"].agg([\"sum\"])\n",
    "agg_2mtrade.columns = [\"最近2月交易金额\"]\n",
    "agg_2mtrade.reset_index(inplace=True)\n",
    "# 交易行为的聚类特征\n",
    "agg_agg_behavior = bank_train.groupby([\"new_user_id\", \"交易类型\"])[\"交易金额\"].agg([\"max\", \"min\", \"mean\", \"count\", \"sum\"])\n",
    "agg_agg_behavior.reset_index(inplace=True)\n",
    "agg_agg_behavior_1 = agg_agg_behavior[agg_agg_behavior['交易类型']==1][[\"new_user_id\", \"max\", \"min\", \"mean\", \"count\", \"sum\"]]\n",
    "agg_agg_behavior_0 = agg_agg_behavior[agg_agg_behavior['交易类型']==0][[\"new_user_id\", \"max\", \"min\", \"mean\", \"count\", \"sum\"]]\n",
    "agg_agg_behavior_0.columns = [\"new_user_id\", \"交易类型_0_交易金额_max\", \"交易类型_0_交易金额_min\", \"交易类型_0_交易金额_mean\", \"交易类型_0_交易金额_count\", \"交易类型_0_交易金额_sum\"]\n",
    "agg_agg_behavior_1.columns = [\"new_user_id\", \"交易类型_1_交易金额_max\", \"交易类型_1_交易金额_min\", \"交易类型_1_交易金额_mean\", \"交易类型_1_交易金额_count\", \"交易类型_1_交易金额_sum\"]"
   ]
  },
  {
   "cell_type": "code",
   "execution_count": 54,
   "metadata": {
    "ExecuteTime": {
     "end_time": "2021-11-15T14:18:38.173835Z",
     "start_time": "2021-11-15T14:18:38.068836Z"
    }
   },
   "outputs": [],
   "source": [
    "# 定义总表\n",
    "feat_3 = ['平均本期还款总额', '平均信用卡使用额度', '平均本期账单余额比信用卡额度',\n",
    "    '最大工资收入', '最小工资收入', '最大非工资收入', '最小非工资收入',\n",
    "       '60天内工资收入_sum', '最近30天内工资收入_sum', '上个30天内工资收入_sum', '工资收入变化趋势',\n",
    "       '60天内非工资收入_sum', '最近30天内非工资收入_sum', '上个30天内非工资收入_sum', '非工资收入变化趋势',\n",
    "       '最近3天交易金额', '最近30天交易金额', '最近2月交易金额', '交易类型_0_交易金额_max',\n",
    "       '交易类型_0_交易金额_min', '交易类型_0_交易金额_mean', '交易类型_0_交易金额_count',\n",
    "       '交易类型_0_交易金额_sum', '交易类型_1_交易金额_max', '交易类型_1_交易金额_min',\n",
    "       '交易类型_1_交易金额_mean', '交易类型_1_交易金额_count', '交易类型_1_交易金额_sum'\n",
    "]\n",
    "\n",
    "df = pd.merge(df, agg_cormoney, on='new_user_id', how='left')\n",
    "df = pd.merge(df, agg_salary1_max, on='new_user_id', how='left')\n",
    "df = pd.merge(df, agg_salary1_min, on='new_user_id', how='left')\n",
    "df = pd.merge(df, agg_salary0_max, on='new_user_id', how='left')\n",
    "df = pd.merge(df, agg_salary0_min, on='new_user_id', how='left')\n",
    "df = pd.merge(df, agg_agg_tend1, on='new_user_id', how='left')\n",
    "df = pd.merge(df, agg_agg_tend2, on='new_user_id', how='left')\n",
    "df = pd.merge(df, agg_3dtrade, on='new_user_id', how='left')\n",
    "df = pd.merge(df, agg_30dtrade, on='new_user_id', how='left')\n",
    "df = pd.merge(df, agg_2mtrade, on='new_user_id', how='left')\n",
    "df = pd.merge(df, agg_agg_behavior_0, on='new_user_id', how='left')\n",
    "df = pd.merge(df, agg_agg_behavior_1, on='new_user_id', how='left')\n",
    "df = df.fillna(0)  # 填补空值"
   ]
  },
  {
   "cell_type": "markdown",
   "metadata": {},
   "source": [
    "### 看看效果"
   ]
  },
  {
   "cell_type": "code",
   "execution_count": 55,
   "metadata": {
    "ExecuteTime": {
     "end_time": "2021-11-15T14:18:38.349954Z",
     "start_time": "2021-11-15T14:18:38.176835Z"
    }
   },
   "outputs": [
    {
     "name": "stdout",
     "output_type": "stream",
     "text": [
      "对“分数”列做回归任务，特征数量为 36 个， 均方差:12.9438\n"
     ]
    }
   ],
   "source": [
    "feats = feat_1 + feat_2 + feat_3\n",
    "X_train, X_test, Y_train, Y_test = train_test_split(df[feats], df[['分数']], test_size=0.2)\n",
    "model = LinearRegression()\n",
    "model.fit(X_train, Y_train)\n",
    "Y_pred_val = model.predict(X_test)\n",
    "mse = mean_squared_error(Y_test, Y_pred_val)\n",
    "print(f'对“分数”列做回归任务，特征数量为 {len(feats)} 个， 均方差:{mse :.4f}')"
   ]
  },
  {
   "cell_type": "code",
   "execution_count": 56,
   "metadata": {
    "ExecuteTime": {
     "end_time": "2021-11-15T14:18:38.811950Z",
     "start_time": "2021-11-15T14:18:38.352956Z"
    }
   },
   "outputs": [
    {
     "name": "stderr",
     "output_type": "stream",
     "text": [
      "D:\\Anaconda3\\lib\\site-packages\\sklearn\\utils\\validation.py:578: DataConversionWarning: A column-vector y was passed when a 1d array was expected. Please change the shape of y to (n_samples, ), for example using ravel().\n",
      "  y = column_or_1d(y, warn=True)\n"
     ]
    },
    {
     "data": {
      "image/png": "[encoded data removed]",
      "text/plain": [
       "<Figure size 432x288 with 1 Axes>"
      ]
     },
     "metadata": {
      "needs_background": "light"
     },
     "output_type": "display_data"
    }
   ],
   "source": [
    "feats = feat_1 + feat_2 + feat_3\n",
    "X_train, X_test, Y_train, Y_test = train_test_split(df[feats], df[['标签']], test_size=0.2)\n",
    "model = LogisticRegression()\n",
    "model.fit(X_train, Y_train)\n",
    "Y_pred = model.predict_proba(X_test)[:, 1]  # 各个测试样本 softmax ，用于计算 roc\n",
    "Y_pred_lab = model.predict(X_test)  # 各个测试样本预测出的标签\n",
    "fpr, tpr, thresholds = roc_curve(Y_test, Y_pred)\n",
    "roc_auc = auc(fpr, tpr)\n",
    "plt.plot([0, 1], [0, 1], 'k--')\n",
    "plt.plot(fpr, tpr)\n",
    "plt.title(f'auc:{roc_auc :.3f}, f1 socre:{f1_score(Y_test, Y_pred_lab) :.3f}')\n",
    "plt.show()"
   ]
  },
  {
   "cell_type": "markdown",
   "metadata": {},
   "source": [
    "### 特征生成完毕后，进行特征缩放"
   ]
  },
  {
   "cell_type": "code",
   "execution_count": 57,
   "metadata": {
    "ExecuteTime": {
     "end_time": "2021-11-15T14:18:38.827952Z",
     "start_time": "2021-11-15T14:18:38.813953Z"
    }
   },
   "outputs": [
    {
     "data": {
      "text/plain": [
       "Index(['new_user_id', '性别', '职业', '教育程度', '婚姻状态', '户口类型', '标签', '分数', '平均欠款金额',\n",
       "       '平均工资收入', '平均还款比例', '过去半年内工资增长趋势', '过去半年内收入波动', '平均本期还款总额', '平均信用卡使用额度',\n",
       "       '平均本期账单余额比信用卡额度', '最大工资收入', '最小工资收入', '最大非工资收入', '最小非工资收入',\n",
       "       '60天内工资收入_sum', '最近30天内工资收入_sum', '上个30天内工资收入_sum', '工资收入变化趋势',\n",
       "       '60天内非工资收入_sum', '最近30天内非工资收入_sum', '上个30天内非工资收入_sum', '非工资收入变化趋势',\n",
       "       '最近3天交易金额', '最近30天交易金额', '最近2月交易金额', '交易类型_0_交易金额_max',\n",
       "       '交易类型_0_交易金额_min', '交易类型_0_交易金额_mean', '交易类型_0_交易金额_count',\n",
       "       '交易类型_0_交易金额_sum', '交易类型_1_交易金额_max', '交易类型_1_交易金额_min',\n",
       "       '交易类型_1_交易金额_mean', '交易类型_1_交易金额_count', '交易类型_1_交易金额_sum'],\n",
       "      dtype='object')"
      ]
     },
     "execution_count": 57,
     "metadata": {},
     "output_type": "execute_result"
    }
   ],
   "source": [
    "df.columns"
   ]
  },
  {
   "cell_type": "code",
   "execution_count": 58,
   "metadata": {
    "ExecuteTime": {
     "end_time": "2021-11-15T14:18:38.905972Z",
     "start_time": "2021-11-15T14:18:38.830954Z"
    }
   },
   "outputs": [],
   "source": [
    "def func(x):  # 和 apply 联用，对每一列进行归一化操作\n",
    "    return (x - np.min(x)) / (np.max(x) - np.min(x))\n",
    "X = df[feat_1 + feat_2 + feat_3].apply(func, axis=0)  # 这里 apply 中 axis=0 是对每一列进行操作\n",
    "Y_regression = df[['分数']]\n",
    "Y_classify = df[[\"标签\"]]"
   ]
  },
  {
   "cell_type": "markdown",
   "metadata": {},
   "source": [
    "## 进行交叉验证"
   ]
  },
  {
   "cell_type": "markdown",
   "metadata": {},
   "source": [
    "### 对比一下五种配置下的结果\n",
    "\n",
    "- 单变量\n",
    "- 第一阶段特征\n",
    "- 第一阶段特征 + 第二阶段特征\n",
    "- 第一阶段特征 + 第二阶段特征 + 第三阶段特征\n",
    "- 第一阶段特征 + 第二阶段特征 + 第三阶段特征 + 归一化"
   ]
  },
  {
   "cell_type": "markdown",
   "metadata": {},
   "source": [
    "#### 首先来看回归任务表现"
   ]
  },
  {
   "cell_type": "code",
   "execution_count": 59,
   "metadata": {
    "ExecuteTime": {
     "end_time": "2021-11-15T14:18:39.001953Z",
     "start_time": "2021-11-15T14:18:38.906953Z"
    }
   },
   "outputs": [
    {
     "name": "stdout",
     "output_type": "stream",
     "text": [
      "均方差: 187.0835  单变量\n",
      "均方差: 93.2998  第一阶段特征\n",
      "均方差: 64.3616  第一阶段特征 + 第二阶段特征\n",
      "均方差: 12.4298  第一阶段特征 + 第二阶段特征 + 第三阶段特征\n",
      "均方差: 14.5327  第一阶段特征 + 第二阶段特征 + 第三阶段特征 + 归一化\n"
     ]
    }
   ],
   "source": [
    "# 单变量\n",
    "X_train, X_test, Y_train, Y_test = train_test_split(df[['职业']], df[['分数']], test_size=0.2)\n",
    "model = LinearRegression()\n",
    "model.fit(X_train, Y_train)\n",
    "Y_pred_val = model.predict(X_test)\n",
    "mse = mean_squared_error(Y_test, Y_pred_val)\n",
    "print(f'均方差: {mse :.4f}  单变量')\n",
    "\n",
    "# 第一阶段特征\n",
    "X_train, X_test, Y_train, Y_test = train_test_split(df[feat_1], df[['分数']], test_size=0.2)\n",
    "model = LinearRegression()\n",
    "model.fit(X_train, Y_train)\n",
    "Y_pred_val = model.predict(X_test)\n",
    "mse = mean_squared_error(Y_test, Y_pred_val)\n",
    "print(f'均方差: {mse :.4f}  第一阶段特征')\n",
    "\n",
    "# 第一阶段特征 + 第二阶段特征\n",
    "X_train, X_test, Y_train, Y_test = train_test_split(df[feat_1 + feat_2], df[['分数']], test_size=0.2)\n",
    "model = LinearRegression()\n",
    "model.fit(X_train, Y_train)\n",
    "Y_pred_val = model.predict(X_test)\n",
    "mse = mean_squared_error(Y_test, Y_pred_val)\n",
    "print(f'均方差: {mse :.4f}  第一阶段特征 + 第二阶段特征')\n",
    "\n",
    "# 第一阶段特征 + 第二阶段特征 + 第三阶段特征\n",
    "X_train, X_test, Y_train, Y_test = train_test_split(df[feat_1 + feat_2 + feat_3], df[['分数']], test_size=0.2)\n",
    "model = LinearRegression()\n",
    "model.fit(X_train, Y_train)\n",
    "Y_pred_val = model.predict(X_test)\n",
    "mse = mean_squared_error(Y_test, Y_pred_val)\n",
    "print(f'均方差: {mse :.4f}  第一阶段特征 + 第二阶段特征 + 第三阶段特征')\n",
    "\n",
    "# 第一阶段特征 + 第二阶段特征 + 第三阶段特征 + 归一化\n",
    "X_train, X_test, Y_train, Y_test = train_test_split(X, Y_regression, test_size=0.2)\n",
    "model = LinearRegression()\n",
    "model.fit(X_train, Y_train)\n",
    "Y_pred_val = model.predict(X_test)\n",
    "mse = mean_squared_error(Y_test, Y_pred_val)\n",
    "print(f'均方差: {mse :.4f}  第一阶段特征 + 第二阶段特征 + 第三阶段特征 + 归一化')"
   ]
  },
  {
   "cell_type": "markdown",
   "metadata": {},
   "source": [
    "#### 然后我们看看分类任务表现"
   ]
  },
  {
   "cell_type": "code",
   "execution_count": 60,
   "metadata": {
    "ExecuteTime": {
     "end_time": "2021-11-15T14:18:49.357420Z",
     "start_time": "2021-11-15T14:18:48.361901Z"
    }
   },
   "outputs": [
    {
     "name": "stderr",
     "output_type": "stream",
     "text": [
      "D:\\Anaconda3\\lib\\site-packages\\sklearn\\utils\\validation.py:578: DataConversionWarning: A column-vector y was passed when a 1d array was expected. Please change the shape of y to (n_samples, ), for example using ravel().\n",
      "  y = column_or_1d(y, warn=True)\n",
      "D:\\Anaconda3\\lib\\site-packages\\sklearn\\metrics\\classification.py:1135: UndefinedMetricWarning: F-score is ill-defined and being set to 0.0 due to no predicted samples.\n",
      "  'precision', 'predicted', average, warn_for)\n"
     ]
    },
    {
     "data": {
      "image/png": "[encoded data removed]",
      "text/plain": [
       "<Figure size 1080x720 with 5 Axes>"
      ]
     },
     "metadata": {
      "needs_background": "light"
     },
     "output_type": "display_data"
    }
   ],
   "source": [
    "plt.subplots(figsize = (15,10))\n",
    "\n",
    "# 单变量\n",
    "plt.subplot(2, 3, 1)\n",
    "X_train, X_test, Y_train, Y_test = train_test_split(df[['职业']], df[['标签']], test_size=0.2)\n",
    "model = LogisticRegression()\n",
    "model.fit(X_train, Y_train)\n",
    "Y_pred = model.predict_proba(X_test)[:, 1]\n",
    "Y_pred_lab = model.predict(X_test)\n",
    "fpr, tpr, thresholds = roc_curve(Y_test, Y_pred)\n",
    "roc_auc = auc(fpr, tpr)\n",
    "plt.plot([0, 1], [0, 1], 'k--')\n",
    "plt.plot(fpr, tpr)\n",
    "plt.title(f'single_feat auc:{roc_auc :.3f}, f1 score:{f1_score(Y_test, Y_pred_lab) :.3f}')\n",
    "\n",
    "# 第一阶段特征\n",
    "plt.subplot(2, 3, 2)\n",
    "X_train, X_test, Y_train, Y_test = train_test_split(df[feat_1], df[['标签']], test_size=0.2)\n",
    "model = LogisticRegression()\n",
    "model.fit(X_train, Y_train)\n",
    "Y_pred = model.predict_proba(X_test)[:, 1]\n",
    "Y_pred_lab = model.predict(X_test)\n",
    "fpr, tpr, thresholds = roc_curve(Y_test, Y_pred)\n",
    "roc_auc = auc(fpr, tpr)\n",
    "plt.plot([0, 1], [0, 1], 'k--')\n",
    "plt.plot(fpr, tpr)\n",
    "plt.title(f'feat_1 auc:{roc_auc :.3f}, f1 score:{f1_score(Y_test, Y_pred_lab) :.3f}')\n",
    "\n",
    "# 第一阶段特征 + 第二阶段特征\n",
    "plt.subplot(2, 3, 3)\n",
    "X_train, X_test, Y_train, Y_test = train_test_split(df[feat_1 + feat_2], df[['标签']], test_size=0.2)\n",
    "model = LogisticRegression()\n",
    "model.fit(X_train, Y_train)\n",
    "Y_pred = model.predict_proba(X_test)[:, 1]\n",
    "Y_pred_lab = model.predict(X_test)\n",
    "fpr, tpr, thresholds = roc_curve(Y_test, Y_pred)\n",
    "roc_auc = auc(fpr, tpr)\n",
    "plt.plot([0, 1], [0, 1], 'k--')\n",
    "plt.plot(fpr, tpr)\n",
    "plt.title(f'feat_1_2 auc:{roc_auc :.3f}, f1 score:{f1_score(Y_test, Y_pred_lab) :.3f}')\n",
    "\n",
    "# 第一阶段特征 + 第二阶段特征 + 第三阶段特征\n",
    "plt.subplot(2, 3, 4)\n",
    "X_train, X_test, Y_train, Y_test = train_test_split(df[feat_1 + feat_2 + feat_3], df[['标签']], test_size=0.2)\n",
    "model = LogisticRegression()\n",
    "model.fit(X_train, Y_train)\n",
    "Y_pred = model.predict_proba(X_test)[:, 1]\n",
    "Y_pred_lab = model.predict(X_test)\n",
    "fpr, tpr, thresholds = roc_curve(Y_test, Y_pred)\n",
    "roc_auc = auc(fpr, tpr)\n",
    "plt.plot([0, 1], [0, 1], 'k--')\n",
    "plt.plot(fpr, tpr)\n",
    "plt.title(f'feat_1_2_3 auc:{roc_auc :.3f}, f1 score:{f1_score(Y_test, Y_pred_lab) :.3f}')\n",
    "\n",
    "# 第一阶段特征 + 第二阶段特征 + 第三阶段特征 + 归一化\n",
    "plt.subplot(2, 3, 5)\n",
    "X_train, X_test, Y_train, Y_test = train_test_split(X, Y_classify, test_size=0.2)\n",
    "model = LogisticRegression()\n",
    "model.fit(X_train, Y_train)\n",
    "Y_pred = model.predict_proba(X_test)[:, 1]\n",
    "Y_pred_lab = model.predict(X_test)\n",
    "fpr, tpr, thresholds = roc_curve(Y_test, Y_pred)\n",
    "roc_auc = auc(fpr, tpr)\n",
    "plt.plot([0, 1], [0, 1], 'k--')\n",
    "plt.plot(fpr, tpr)\n",
    "plt.title(f'feat_1_2_3_scale auc:{roc_auc :.3f}, f1 score:{f1_score(Y_test, Y_pred_lab) :.3f}')\n",
    "plt.show()"
   ]
  },
  {
   "cell_type": "markdown",
   "metadata": {},
   "source": [
    "如上，发现效果层层递进。"
   ]
  },
  {
   "cell_type": "markdown",
   "metadata": {},
   "source": [
    "### k折交叉验证寻找一下最优参数\n",
    "\n",
    "`C` 有 `5` 个候选值 `[0.001, 0.01, 0.1, 1, 10, 100]` ，分别拿这个五个值进行 5 折交叉验证，看看哪个参数值最适合这个任务。"
   ]
  },
  {
   "cell_type": "code",
   "execution_count": 61,
   "metadata": {
    "ExecuteTime": {
     "end_time": "2021-11-15T14:18:50.273423Z",
     "start_time": "2021-11-15T14:18:50.259422Z"
    }
   },
   "outputs": [],
   "source": [
    "def best_C_param (x, y):\n",
    "    kf = KFold(5, shuffle=True)\n",
    "    C_param = [0.001, 0.01, 0.1, 1, 10, 100]\n",
    "    result = []\n",
    "    best_score = 0\n",
    "    best_c = 0\n",
    "    for i, c_parm in enumerate(C_param):\n",
    "        recall_score_lr_kf = []\n",
    "        for k, (train, test) in enumerate(kf.split(x, y)):\n",
    "            model = LogisticRegression(C=c_parm, penalty='l2')\n",
    "            lr_kf = model.fit(x.iloc[train], y.iloc[train].values.ravel())\n",
    "            Y_pred = model.predict(x.iloc[test])\n",
    "            score = f1_score(y.iloc[test], Y_pred)\n",
    "            recall_score_lr_kf.append(score)\n",
    "            print(f'iter {k + 1}/5 f1 score {score :.4f}|| ', end=\"\")\n",
    "        print(\"\")\n",
    "        score = np.mean(recall_score_lr_kf)\n",
    "        result.append(score)\n",
    "        print(f\"> c_parm {c_parm} with score {score :.4f}\\n\")\n",
    "        if (i == 0 or score > best_score):\n",
    "            best_c = c_parm\n",
    "            best_score = score\n",
    "    print(f\"the best c_param is {best_c}\")"
   ]
  },
  {
   "cell_type": "code",
   "execution_count": 62,
   "metadata": {
    "ExecuteTime": {
     "end_time": "2021-11-15T14:18:51.333418Z",
     "start_time": "2021-11-15T14:18:50.274420Z"
    }
   },
   "outputs": [
    {
     "name": "stdout",
     "output_type": "stream",
     "text": [
      "iter 1/5 f1 score 0.5649|| iter 2/5 f1 score 0.6125|| iter 3/5 f1 score 0.6016|| iter 4/5 f1 score 0.5655|| iter 5/5 f1 score 0.5692|| \n",
      "> c_parm 0.001 with score 0.5827\n",
      "\n",
      "iter 1/5 f1 score 0.5569|| iter 2/5 f1 score 0.5567|| iter 3/5 f1 score 0.6059|| iter 4/5 f1 score 0.5991|| iter 5/5 f1 score 0.5919|| \n",
      "> c_parm 0.01 with score 0.5821\n",
      "\n",
      "iter 1/5 f1 score 0.5991|| iter 2/5 f1 score 0.5784|| iter 3/5 f1 score 0.5920|| iter 4/5 f1 score 0.5823|| iter 5/5 f1 score 0.5585|| \n",
      "> c_parm 0.1 with score 0.5821\n",
      "\n",
      "iter 1/5 f1 score 0.5530|| iter 2/5 f1 score 0.6048|| iter 3/5 f1 score 0.5789|| iter 4/5 f1 score 0.5983|| iter 5/5 f1 score 0.5675|| \n",
      "> c_parm 1 with score 0.5805\n",
      "\n",
      "iter 1/5 f1 score 0.5663|| iter 2/5 f1 score 0.5871|| iter 3/5 f1 score 0.5779|| iter 4/5 f1 score 0.5759|| iter 5/5 f1 score 0.5950|| \n",
      "> c_parm 10 with score 0.5804\n",
      "\n",
      "iter 1/5 f1 score 0.5702|| iter 2/5 f1 score 0.5855|| iter 3/5 f1 score 0.5727|| iter 4/5 f1 score 0.5702|| iter 5/5 f1 score 0.5893|| \n",
      "> c_parm 100 with score 0.5776\n",
      "\n",
      "the best c_param is 0.001\n"
     ]
    }
   ],
   "source": [
    "best_C_param(X, Y_classify)"
   ]
  },
  {
   "cell_type": "markdown",
   "metadata": {},
   "source": [
    "如上，在选用 `C=0.1` 时，得到的 `f1 score`是最好的。注意这里实验结果不稳定，因为仅仅是一个小例子，展示一下交叉检验怎么用。"
   ]
  },
  {
   "cell_type": "code",
   "execution_count": null,
   "metadata": {},
   "outputs": [],
   "source": []
  }
 ],
 "metadata": {
  "kernelspec": {
   "display_name": "Python 3",
   "language": "python",
   "name": "python3"
  },
  "language_info": {
   "codemirror_mode": {
    "name": "ipython",
    "version": 3
   },
   "file_extension": ".py",
   "mimetype": "text/x-python",
   "name": "python",
   "nbconvert_exporter": "python",
   "pygments_lexer": "ipython3",
   "version": "3.7.0"
  },
  "toc": {
   "base_numbering": 1,
   "nav_menu": {},
   "number_sections": true,
   "sideBar": true,
   "skip_h1_title": false,
   "title_cell": "Table of Contents",
   "title_sidebar": "Contents",
   "toc_cell": false,
   "toc_position": {},
   "toc_section_display": true,
   "toc_window_display": false
  },
  "varInspector": {
   "cols": {
    "lenName": 16,
    "lenType": 16,
    "lenVar": 40
   },
   "kernels_config": {
    "python": {
     "delete_cmd_postfix": "",
     "delete_cmd_prefix": "del ",
     "library": "var_list.py",
     "varRefreshCmd": "print(var_dic_list())"
    },
    "r": {
     "delete_cmd_postfix": ") ",
     "delete_cmd_prefix": "rm(",
     "library": "var_list.r",
     "varRefreshCmd": "cat(var_dic_list()) "
    }
   },
   "types_to_exclude": [
    "module",
    "function",
    "builtin_function_or_method",
    "instance",
    "_Feature"
   ],
   "window_display": false
  }
 },
 "nbformat": 4,
 "nbformat_minor": 4
}
